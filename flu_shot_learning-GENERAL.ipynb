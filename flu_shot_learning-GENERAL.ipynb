{
 "cells": [
  {
   "cell_type": "code",
   "execution_count": 1,
   "id": "suffering-guarantee",
   "metadata": {},
   "outputs": [],
   "source": [
    "import numpy as np\n",
    "import pandas as pd\n",
    "import matplotlib.pyplot as plt\n",
    "import seaborn as sns\n",
    "import pickle\n",
    "from pathlib import Path\n",
    "\n",
    "root = Path(\".\")\n",
    "\n",
    "%matplotlib inline\n",
    "sns.set()\n",
    "\n",
    "plt.rcParams['figure.figsize'] = [8.0, 8.0]\n",
    "plt.rcParams['figure.dpi'] = 120"
   ]
  },
  {
   "cell_type": "code",
   "execution_count": 2,
   "id": "southwest-netherlands",
   "metadata": {},
   "outputs": [],
   "source": [
    "X_train_full = pd.read_csv('input_data\\\\training_set_features.csv', index_col = 'respondent_id')\n",
    "y_train_full = pd.read_csv('input_data\\\\training_set_labels.csv', index_col = 'respondent_id')"
   ]
  },
  {
   "cell_type": "code",
   "execution_count": 3,
   "id": "international-harvard",
   "metadata": {},
   "outputs": [],
   "source": [
    "X_test = pd.read_csv('input_data\\\\test_set_features.csv', index_col = 'respondent_id')"
   ]
  },
  {
   "cell_type": "markdown",
   "id": "altered-boring",
   "metadata": {},
   "source": [
    "# Loading Help Functions"
   ]
  },
  {
   "cell_type": "code",
   "execution_count": 4,
   "id": "vertical-crisis",
   "metadata": {},
   "outputs": [],
   "source": [
    "def simplify_col_names(df):\n",
    "    df['income_poverty'].replace('Below Poverty', 'Low', inplace = True)\n",
    "    df['income_poverty'].replace('<= $75,000, Above Poverty', 'Medium', inplace = True)\n",
    "    df['income_poverty'].replace('> $75,000', 'High', inplace = True)\n",
    "    \n",
    "    df['age_group'].replace('65+ Years', '65+', inplace = True)\n",
    "    df['age_group'].replace('55 - 64 Years', '55+', inplace = True)\n",
    "    df['age_group'].replace('45 - 54 Years', '45+', inplace = True)\n",
    "    df['age_group'].replace('35 - 44 Years', '35+', inplace = True)\n",
    "    df['age_group'].replace('18 - 34 Years', '18+', inplace = True)\n",
    "    \n",
    "    df['education'].replace('College Graduate', 'Very High', inplace = True)\n",
    "    df['education'].replace('Some College', 'High', inplace = True)\n",
    "    df['education'].replace('12 Years', 'Medium', inplace = True)\n",
    "    df['education'].replace('< 12 Years', 'Low', inplace = True)"
   ]
  },
  {
   "cell_type": "code",
   "execution_count": 5,
   "id": "female-kidney",
   "metadata": {},
   "outputs": [],
   "source": [
    "def engineer_features(df):\n",
    "    behavioral_cols = ['behavioral_antiviral_meds',\n",
    "                   'behavioral_avoidance',\n",
    "                   'behavioral_face_mask',\n",
    "                   'behavioral_wash_hands',\n",
    "                   'behavioral_large_gatherings',\n",
    "                   'behavioral_outside_home',\n",
    "                   'behavioral_touch_face']\n",
    "\n",
    "    #df['general_behavior'] = pd.Series(np.zeros(df.shape[0]), index = df.index)\n",
    "    #for b_col in behavioral_cols:\n",
    "    #   df['general_behavior'] += df[b_col]\n",
    "        \n",
    "    df['general_effective'] = df['opinion_h1n1_vacc_effective'] + df['opinion_seas_vacc_effective']\n",
    "\n",
    "    df['general_risk'] = df['opinion_h1n1_risk'] + df['opinion_seas_risk']\n",
    "    \n",
    "    df['general_eff_risk'] = df['general_effective'] + df['general_risk']\n",
    "    \n",
    "    df['general_reccomendation'] = df['doctor_recc_h1n1'] + df['doctor_recc_seasonal']"
   ]
  },
  {
   "cell_type": "markdown",
   "id": "reduced-variety",
   "metadata": {},
   "source": [
    "# Loading Models"
   ]
  },
  {
   "cell_type": "code",
   "execution_count": 6,
   "id": "statistical-peoples",
   "metadata": {},
   "outputs": [],
   "source": [
    "preprocessor = pickle.load(open('models\\\\preprocessor.pkl', 'rb'))"
   ]
  },
  {
   "cell_type": "code",
   "execution_count": 7,
   "id": "dense-macedonia",
   "metadata": {},
   "outputs": [],
   "source": [
    "estimator_h1n1 = pickle.load(open('models\\\\estimator_h1n1.pkl', 'rb'))\n",
    "estimator_seas = pickle.load(open('models\\\\estimator_seas.pkl', 'rb'))"
   ]
  },
  {
   "cell_type": "markdown",
   "id": "veterinary-leonard",
   "metadata": {},
   "source": [
    "# Modelling"
   ]
  },
  {
   "cell_type": "markdown",
   "id": "naked-force",
   "metadata": {},
   "source": [
    "Build final pipelines:"
   ]
  },
  {
   "cell_type": "code",
   "execution_count": 8,
   "id": "casual-debate",
   "metadata": {},
   "outputs": [],
   "source": [
    "from sklearn.pipeline import Pipeline\n",
    "\n",
    "full_pipeline_h1n1 = Pipeline(steps=[('preprocessor', preprocessor),\n",
    "                                     ('estimator', estimator_h1n1)])\n",
    "\n",
    "full_pipeline_seas = Pipeline(steps=[('preprocessor', preprocessor),\n",
    "                                     ('estimator', estimator_seas)])"
   ]
  },
  {
   "cell_type": "markdown",
   "id": "purple-heart",
   "metadata": {},
   "source": [
    "Prepare input data:"
   ]
  },
  {
   "cell_type": "code",
   "execution_count": 9,
   "id": "vertical-outdoors",
   "metadata": {},
   "outputs": [],
   "source": [
    "simplify_col_names(X_train_full)"
   ]
  },
  {
   "cell_type": "code",
   "execution_count": 10,
   "id": "developmental-shopper",
   "metadata": {},
   "outputs": [],
   "source": [
    "engineer_features(X_train_full)"
   ]
  },
  {
   "cell_type": "markdown",
   "id": "surprising-invasion",
   "metadata": {},
   "source": [
    "Fit pipeline to full train data:"
   ]
  },
  {
   "cell_type": "code",
   "execution_count": 11,
   "id": "arranged-arcade",
   "metadata": {},
   "outputs": [
    {
     "data": {
      "text/plain": [
       "Pipeline(steps=[('preprocessor',\n",
       "                 ColumnTransformer(transformers=[('numerical_cols',\n",
       "                                                  SimpleImputer(strategy='most_frequent'),\n",
       "                                                  ['h1n1_concern',\n",
       "                                                   'h1n1_knowledge',\n",
       "                                                   'behavioral_antiviral_meds',\n",
       "                                                   'behavioral_avoidance',\n",
       "                                                   'behavioral_face_mask',\n",
       "                                                   'behavioral_wash_hands',\n",
       "                                                   'behavioral_large_gatherings',\n",
       "                                                   'behavioral_outside_home',\n",
       "                                                   'behavioral_touch_face',\n",
       "                                                   'doctor_recc_h1n1...\n",
       "                                                               reg_lambda=1,\n",
       "                                                               scale_pos_weight=1,\n",
       "                                                               subsample=0.8,\n",
       "                                                               tree_method='exact',\n",
       "                                                               use_label_encoder=False,\n",
       "                                                               validate_parameters=1,\n",
       "                                                               verbosity=None)),\n",
       "                                                ('LightGBM',\n",
       "                                                 LGBMClassifier(colsample_bytree=0.9,\n",
       "                                                                learning_rate=0.05,\n",
       "                                                                min_child_samples=21,\n",
       "                                                                min_child_weight=0.0015,\n",
       "                                                                subsample=0.9)),\n",
       "                                                ('CatBoost',\n",
       "                                                 <catboost.core.CatBoostClassifier object at 0x0000019D257F05E0>)],\n",
       "                                    n_jobs=-1, verbose=3))])"
      ]
     },
     "execution_count": 11,
     "metadata": {},
     "output_type": "execute_result"
    }
   ],
   "source": [
    "full_pipeline_h1n1.fit(X_train_full, y_train_full['h1n1_vaccine'])"
   ]
  },
  {
   "cell_type": "code",
   "execution_count": 14,
   "id": "proprietary-gibraltar",
   "metadata": {},
   "outputs": [
    {
     "data": {
      "text/plain": [
       "Pipeline(steps=[('preprocessor',\n",
       "                 ColumnTransformer(transformers=[('numerical_cols',\n",
       "                                                  SimpleImputer(strategy='most_frequent'),\n",
       "                                                  ['h1n1_concern',\n",
       "                                                   'h1n1_knowledge',\n",
       "                                                   'behavioral_antiviral_meds',\n",
       "                                                   'behavioral_avoidance',\n",
       "                                                   'behavioral_face_mask',\n",
       "                                                   'behavioral_wash_hands',\n",
       "                                                   'behavioral_large_gatherings',\n",
       "                                                   'behavioral_outside_home',\n",
       "                                                   'behavioral_touch_face',\n",
       "                                                   'doctor_recc_h1n1...\n",
       "                                                               subsample=0.7000000000000001,\n",
       "                                                               tree_method='exact',\n",
       "                                                               use_label_encoder=False,\n",
       "                                                               validate_parameters=1,\n",
       "                                                               verbosity=None)),\n",
       "                                                ('LightGBM',\n",
       "                                                 LGBMClassifier(colsample_bytree=0.6,\n",
       "                                                                learning_rate=0.05,\n",
       "                                                                min_child_samples=23,\n",
       "                                                                min_child_weight=0.0015,\n",
       "                                                                subsample=0.8500000000000001)),\n",
       "                                                ('CatBoost',\n",
       "                                                 <catboost.core.CatBoostClassifier object at 0x0000019D2516CCD0>)],\n",
       "                                    n_jobs=-1, verbose=3))])"
      ]
     },
     "execution_count": 14,
     "metadata": {},
     "output_type": "execute_result"
    }
   ],
   "source": [
    "full_pipeline_seas.fit(X_train_full, y_train_full['seasonal_vaccine'])"
   ]
  },
  {
   "cell_type": "markdown",
   "id": "after-china",
   "metadata": {},
   "source": [
    "# Making predictions"
   ]
  },
  {
   "cell_type": "code",
   "execution_count": null,
   "id": "nearby-drilling",
   "metadata": {},
   "outputs": [],
   "source": [
    "simplify_col_names(X_test)"
   ]
  },
  {
   "cell_type": "code",
   "execution_count": null,
   "id": "legitimate-august",
   "metadata": {},
   "outputs": [],
   "source": [
    "engineer_features(X_test)"
   ]
  },
  {
   "cell_type": "code",
   "execution_count": null,
   "id": "native-hungary",
   "metadata": {},
   "outputs": [],
   "source": [
    "pred_h1n1 = full_pipeline_h1n1.predict_proba(X_test)[:, 1]\n",
    "pred_seas = full_pipeline_seas.predict_proba(X_test)[:, 1]\n",
    "\n",
    "predictions = pd.DataFrame({'respondent_id': X_test.index,\n",
    "                            'h1n1_vaccine': pred_h1n1,\n",
    "                            'seasonal_vaccine': pred_seas\n",
    "                           })"
   ]
  },
  {
   "cell_type": "code",
   "execution_count": null,
   "id": "round-listing",
   "metadata": {},
   "outputs": [],
   "source": [
    "predictions"
   ]
  },
  {
   "cell_type": "code",
   "execution_count": null,
   "id": "emotional-skirt",
   "metadata": {},
   "outputs": [],
   "source": [
    "predictions.to_csv('output_data\\\\predictions.csv', index = False)"
   ]
  }
 ],
 "metadata": {
  "kernelspec": {
   "display_name": "Python 3",
   "language": "python",
   "name": "python3"
  },
  "language_info": {
   "codemirror_mode": {
    "name": "ipython",
    "version": 3
   },
   "file_extension": ".py",
   "mimetype": "text/x-python",
   "name": "python",
   "nbconvert_exporter": "python",
   "pygments_lexer": "ipython3",
   "version": "3.8.5"
  }
 },
 "nbformat": 4,
 "nbformat_minor": 5
}
