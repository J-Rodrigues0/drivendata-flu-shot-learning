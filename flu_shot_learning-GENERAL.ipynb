{
 "cells": [
  {
   "cell_type": "code",
   "execution_count": 1,
   "metadata": {},
   "outputs": [],
   "source": [
    "import numpy as np\n",
    "import pandas as pd\n",
    "import matplotlib.pyplot as plt\n",
    "import seaborn as sns\n",
    "import pickle\n",
    "from pathlib import Path\n",
    "\n",
    "root = Path(\".\")\n",
    "\n",
    "%matplotlib inline\n",
    "sns.set()\n",
    "\n",
    "plt.rcParams['figure.figsize'] = [8.0, 8.0]\n",
    "plt.rcParams['figure.dpi'] = 120"
   ]
  },
  {
   "cell_type": "code",
   "execution_count": 2,
   "metadata": {},
   "outputs": [],
   "source": [
    "X_train_full = pd.read_csv('input_data\\\\training_set_features.csv', index_col = 'respondent_id')\n",
    "y_train_full = pd.read_csv('input_data\\\\training_set_labels.csv', index_col = 'respondent_id')"
   ]
  },
  {
   "cell_type": "code",
   "execution_count": 3,
   "metadata": {},
   "outputs": [],
   "source": [
    "X_test = pd.read_csv('input_data\\\\test_set_features.csv', index_col = 'respondent_id')"
   ]
  },
  {
   "cell_type": "markdown",
   "metadata": {},
   "source": [
    "# Loading Help Functions"
   ]
  },
  {
   "cell_type": "code",
   "execution_count": 4,
   "metadata": {},
   "outputs": [],
   "source": [
    "def simplify_col_names(df):\n",
    "    df['income_poverty'].replace('Below Poverty', 'Low', inplace = True)\n",
    "    df['income_poverty'].replace('<= $75,000, Above Poverty', 'Medium', inplace = True)\n",
    "    df['income_poverty'].replace('> $75,000', 'High', inplace = True)\n",
    "    \n",
    "    df['age_group'].replace('65+ Years', '65+', inplace = True)\n",
    "    df['age_group'].replace('55 - 64 Years', '55+', inplace = True)\n",
    "    df['age_group'].replace('45 - 54 Years', '45+', inplace = True)\n",
    "    df['age_group'].replace('35 - 44 Years', '35+', inplace = True)\n",
    "    df['age_group'].replace('18 - 34 Years', '18+', inplace = True)\n",
    "    \n",
    "    df['education'].replace('College Graduate', 'Very High', inplace = True)\n",
    "    df['education'].replace('Some College', 'High', inplace = True)\n",
    "    df['education'].replace('12 Years', 'Medium', inplace = True)\n",
    "    df['education'].replace('< 12 Years', 'Low', inplace = True)"
   ]
  },
  {
   "cell_type": "code",
   "execution_count": 5,
   "metadata": {},
   "outputs": [],
   "source": [
    "def engineer_features(df):\n",
    "    behavioral_cols = ['behavioral_antiviral_meds',\n",
    "                   'behavioral_avoidance',\n",
    "                   'behavioral_face_mask',\n",
    "                   'behavioral_wash_hands',\n",
    "                   'behavioral_large_gatherings',\n",
    "                   'behavioral_outside_home',\n",
    "                   'behavioral_touch_face']\n",
    "\n",
    "    #df['general_behavior'] = pd.Series(np.zeros(df.shape[0]), index = df.index)\n",
    "    #for b_col in behavioral_cols:\n",
    "    #   df['general_behavior'] += df[b_col]\n",
    "        \n",
    "    df['general_effective'] = df['opinion_h1n1_vacc_effective'] + df['opinion_seas_vacc_effective']\n",
    "\n",
    "    df['general_risk'] = df['opinion_h1n1_risk'] + df['opinion_seas_risk']\n",
    "    \n",
    "    df['general_eff_risk'] = df['general_effective'] + df['general_risk']\n",
    "    \n",
    "    df['general_reccomendation'] = df['doctor_recc_h1n1'] + df['doctor_recc_seasonal']"
   ]
  },
  {
   "cell_type": "markdown",
   "metadata": {},
   "source": [
    "# Loading Models"
   ]
  },
  {
   "cell_type": "code",
   "execution_count": 6,
   "metadata": {},
   "outputs": [],
   "source": [
    "preprocessor = pickle.load(open('models\\\\preprocessor.pkl', 'rb'))"
   ]
  },
  {
   "cell_type": "code",
   "execution_count": 7,
   "metadata": {},
   "outputs": [],
   "source": [
    "estimator_h1n1 = pickle.load(open('models\\\\estimator_h1n1.pkl', 'rb'))\n",
    "estimator_seas = pickle.load(open('models\\\\estimator_seas.pkl', 'rb'))"
   ]
  },
  {
   "cell_type": "markdown",
   "metadata": {},
   "source": [
    "# Modelling"
   ]
  },
  {
   "cell_type": "markdown",
   "metadata": {},
   "source": [
    "Build final pipelines:"
   ]
  },
  {
   "cell_type": "code",
   "execution_count": 8,
   "metadata": {},
   "outputs": [],
   "source": [
    "from sklearn.pipeline import Pipeline\n",
    "\n",
    "full_pipeline_h1n1 = Pipeline(steps=[('preprocessor', preprocessor),\n",
    "                                     ('estimator', estimator_h1n1)])\n",
    "\n",
    "full_pipeline_seas = Pipeline(steps=[('preprocessor', preprocessor),\n",
    "                                     ('estimator', estimator_seas)])"
   ]
  },
  {
   "cell_type": "markdown",
   "metadata": {},
   "source": [
    "Prepare input data:"
   ]
  },
  {
   "cell_type": "code",
   "execution_count": 9,
   "metadata": {},
   "outputs": [],
   "source": [
    "simplify_col_names(X_train_full)"
   ]
  },
  {
   "cell_type": "code",
   "execution_count": 10,
   "metadata": {},
   "outputs": [],
   "source": [
    "engineer_features(X_train_full)"
   ]
  },
  {
   "cell_type": "markdown",
   "metadata": {},
   "source": [
    "Fit pipeline to full train data:"
   ]
  },
  {
   "cell_type": "code",
   "execution_count": 11,
   "metadata": {},
   "outputs": [
    {
     "data": {
      "text/plain": [
       "Pipeline(steps=[('preprocessor',\n",
       "                 Pipeline(steps=[('ColTransf',\n",
       "                                  ColumnTransformer(transformers=[('numerical_cols',\n",
       "                                                                   SimpleImputer(strategy='most_frequent'),\n",
       "                                                                   ['h1n1_concern',\n",
       "                                                                    'h1n1_knowledge',\n",
       "                                                                    'behavioral_antiviral_meds',\n",
       "                                                                    'behavioral_avoidance',\n",
       "                                                                    'behavioral_face_mask',\n",
       "                                                                    'behavioral_wash_hands',\n",
       "                                                                    'behavioral_large_gatherings',\n",
       "                                                                    'behavioral_outside_home',\n",
       "                                                                    'behavioral_...\n",
       "                                                               reg_lambda=1,\n",
       "                                                               scale_pos_weight=1,\n",
       "                                                               subsample=0.8,\n",
       "                                                               tree_method='exact',\n",
       "                                                               use_label_encoder=False,\n",
       "                                                               validate_parameters=1,\n",
       "                                                               verbosity=None)),\n",
       "                                                ('LightGBM',\n",
       "                                                 LGBMClassifier(colsample_bytree=0.9,\n",
       "                                                                learning_rate=0.05,\n",
       "                                                                min_child_samples=21,\n",
       "                                                                min_child_weight=0.0015,\n",
       "                                                                subsample=0.9)),\n",
       "                                                ('CatBoost',\n",
       "                                                 <catboost.core.CatBoostClassifier object at 0x000001D62C04FA30>)],\n",
       "                                    n_jobs=-1, verbose=3))])"
      ]
     },
     "execution_count": 11,
     "metadata": {},
     "output_type": "execute_result"
    }
   ],
   "source": [
    "full_pipeline_h1n1.fit(X_train_full, y_train_full['h1n1_vaccine'])"
   ]
  },
  {
   "cell_type": "code",
   "execution_count": 12,
   "metadata": {},
   "outputs": [
    {
     "data": {
      "text/plain": [
       "Pipeline(steps=[('preprocessor',\n",
       "                 Pipeline(steps=[('ColTransf',\n",
       "                                  ColumnTransformer(transformers=[('numerical_cols',\n",
       "                                                                   SimpleImputer(strategy='most_frequent'),\n",
       "                                                                   ['h1n1_concern',\n",
       "                                                                    'h1n1_knowledge',\n",
       "                                                                    'behavioral_antiviral_meds',\n",
       "                                                                    'behavioral_avoidance',\n",
       "                                                                    'behavioral_face_mask',\n",
       "                                                                    'behavioral_wash_hands',\n",
       "                                                                    'behavioral_large_gatherings',\n",
       "                                                                    'behavioral_outside_home',\n",
       "                                                                    'behavioral_...\n",
       "                                                               subsample=0.7000000000000001,\n",
       "                                                               tree_method='exact',\n",
       "                                                               use_label_encoder=False,\n",
       "                                                               validate_parameters=1,\n",
       "                                                               verbosity=None)),\n",
       "                                                ('LightGBM',\n",
       "                                                 LGBMClassifier(colsample_bytree=0.6,\n",
       "                                                                learning_rate=0.05,\n",
       "                                                                min_child_samples=23,\n",
       "                                                                min_child_weight=0.0015,\n",
       "                                                                subsample=0.8500000000000001)),\n",
       "                                                ('CatBoost',\n",
       "                                                 <catboost.core.CatBoostClassifier object at 0x000001D62B99B790>)],\n",
       "                                    n_jobs=-1, verbose=3))])"
      ]
     },
     "execution_count": 12,
     "metadata": {},
     "output_type": "execute_result"
    }
   ],
   "source": [
    "full_pipeline_seas.fit(X_train_full, y_train_full['seasonal_vaccine'])"
   ]
  },
  {
   "cell_type": "markdown",
   "metadata": {},
   "source": [
    "# Making predictions"
   ]
  },
  {
   "cell_type": "code",
   "execution_count": 13,
   "metadata": {},
   "outputs": [],
   "source": [
    "simplify_col_names(X_test)"
   ]
  },
  {
   "cell_type": "code",
   "execution_count": 14,
   "metadata": {},
   "outputs": [],
   "source": [
    "engineer_features(X_test)"
   ]
  },
  {
   "cell_type": "code",
   "execution_count": 15,
   "metadata": {},
   "outputs": [],
   "source": [
    "pred_h1n1 = full_pipeline_h1n1.predict_proba(X_test)[:, 1]\n",
    "pred_seas = full_pipeline_seas.predict_proba(X_test)[:, 1]\n",
    "\n",
    "predictions = pd.DataFrame({'respondent_id': X_test.index,\n",
    "                            'h1n1_vaccine': pred_h1n1,\n",
    "                            'seasonal_vaccine': pred_seas\n",
    "                           })"
   ]
  },
  {
   "cell_type": "code",
   "execution_count": 16,
   "metadata": {},
   "outputs": [
    {
     "data": {
      "text/html": [
       "<div>\n",
       "<style scoped>\n",
       "    .dataframe tbody tr th:only-of-type {\n",
       "        vertical-align: middle;\n",
       "    }\n",
       "\n",
       "    .dataframe tbody tr th {\n",
       "        vertical-align: top;\n",
       "    }\n",
       "\n",
       "    .dataframe thead th {\n",
       "        text-align: right;\n",
       "    }\n",
       "</style>\n",
       "<table border=\"1\" class=\"dataframe\">\n",
       "  <thead>\n",
       "    <tr style=\"text-align: right;\">\n",
       "      <th></th>\n",
       "      <th>respondent_id</th>\n",
       "      <th>h1n1_vaccine</th>\n",
       "      <th>seasonal_vaccine</th>\n",
       "    </tr>\n",
       "  </thead>\n",
       "  <tbody>\n",
       "    <tr>\n",
       "      <th>0</th>\n",
       "      <td>26707</td>\n",
       "      <td>0.075280</td>\n",
       "      <td>0.155117</td>\n",
       "    </tr>\n",
       "    <tr>\n",
       "      <th>1</th>\n",
       "      <td>26708</td>\n",
       "      <td>0.064961</td>\n",
       "      <td>0.075245</td>\n",
       "    </tr>\n",
       "    <tr>\n",
       "      <th>2</th>\n",
       "      <td>26709</td>\n",
       "      <td>0.314402</td>\n",
       "      <td>0.779881</td>\n",
       "    </tr>\n",
       "    <tr>\n",
       "      <th>3</th>\n",
       "      <td>26710</td>\n",
       "      <td>0.680957</td>\n",
       "      <td>0.891938</td>\n",
       "    </tr>\n",
       "    <tr>\n",
       "      <th>4</th>\n",
       "      <td>26711</td>\n",
       "      <td>0.247933</td>\n",
       "      <td>0.424343</td>\n",
       "    </tr>\n",
       "    <tr>\n",
       "      <th>...</th>\n",
       "      <td>...</td>\n",
       "      <td>...</td>\n",
       "      <td>...</td>\n",
       "    </tr>\n",
       "    <tr>\n",
       "      <th>26703</th>\n",
       "      <td>53410</td>\n",
       "      <td>0.383297</td>\n",
       "      <td>0.521872</td>\n",
       "    </tr>\n",
       "    <tr>\n",
       "      <th>26704</th>\n",
       "      <td>53411</td>\n",
       "      <td>0.100958</td>\n",
       "      <td>0.249524</td>\n",
       "    </tr>\n",
       "    <tr>\n",
       "      <th>26705</th>\n",
       "      <td>53412</td>\n",
       "      <td>0.091140</td>\n",
       "      <td>0.140031</td>\n",
       "    </tr>\n",
       "    <tr>\n",
       "      <th>26706</th>\n",
       "      <td>53413</td>\n",
       "      <td>0.075090</td>\n",
       "      <td>0.305382</td>\n",
       "    </tr>\n",
       "    <tr>\n",
       "      <th>26707</th>\n",
       "      <td>53414</td>\n",
       "      <td>0.522983</td>\n",
       "      <td>0.611522</td>\n",
       "    </tr>\n",
       "  </tbody>\n",
       "</table>\n",
       "<p>26708 rows × 3 columns</p>\n",
       "</div>"
      ],
      "text/plain": [
       "       respondent_id  h1n1_vaccine  seasonal_vaccine\n",
       "0              26707      0.075280          0.155117\n",
       "1              26708      0.064961          0.075245\n",
       "2              26709      0.314402          0.779881\n",
       "3              26710      0.680957          0.891938\n",
       "4              26711      0.247933          0.424343\n",
       "...              ...           ...               ...\n",
       "26703          53410      0.383297          0.521872\n",
       "26704          53411      0.100958          0.249524\n",
       "26705          53412      0.091140          0.140031\n",
       "26706          53413      0.075090          0.305382\n",
       "26707          53414      0.522983          0.611522\n",
       "\n",
       "[26708 rows x 3 columns]"
      ]
     },
     "execution_count": 16,
     "metadata": {},
     "output_type": "execute_result"
    }
   ],
   "source": [
    "predictions"
   ]
  },
  {
   "cell_type": "code",
   "execution_count": 17,
   "metadata": {},
   "outputs": [],
   "source": [
    "predictions.to_csv('output_data\\\\predictions.csv', index = False)"
   ]
  }
 ],
 "metadata": {
  "kernelspec": {
   "display_name": "Python 3",
   "language": "python",
   "name": "python3"
  },
  "language_info": {
   "codemirror_mode": {
    "name": "ipython",
    "version": 3
   },
   "file_extension": ".py",
   "mimetype": "text/x-python",
   "name": "python",
   "nbconvert_exporter": "python",
   "pygments_lexer": "ipython3",
   "version": "3.8.3"
  }
 },
 "nbformat": 4,
 "nbformat_minor": 5
}
