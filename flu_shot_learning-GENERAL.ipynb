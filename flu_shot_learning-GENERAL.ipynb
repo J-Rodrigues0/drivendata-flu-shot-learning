{
 "cells": [
  {
   "cell_type": "code",
   "execution_count": 31,
   "metadata": {},
   "outputs": [],
   "source": [
    "import numpy as np\n",
    "import pandas as pd\n",
    "import matplotlib.pyplot as plt\n",
    "import seaborn as sns\n",
    "import pickle\n",
    "from pathlib import Path\n",
    "import nbimporter\n",
    "\n",
    "root = Path(\".\")\n",
    "\n",
    "%matplotlib inline\n",
    "sns.set()\n",
    "\n",
    "plt.rcParams['figure.figsize'] = [8.0, 8.0]\n",
    "plt.rcParams['figure.dpi'] = 120"
   ]
  },
  {
   "cell_type": "code",
   "execution_count": 32,
   "metadata": {},
   "outputs": [],
   "source": [
    "X_train_full = pd.read_csv('input_data\\\\training_set_features.csv', index_col = 'respondent_id')\n",
    "y_train_full = pd.read_csv('input_data\\\\training_set_labels.csv', index_col = 'respondent_id')"
   ]
  },
  {
   "cell_type": "code",
   "execution_count": 33,
   "metadata": {},
   "outputs": [],
   "source": [
    "X_test = pd.read_csv('input_data\\\\test_set_features.csv', index_col = 'respondent_id')"
   ]
  },
  {
   "cell_type": "markdown",
   "metadata": {},
   "source": [
    "# Loading Help Functions"
   ]
  },
  {
   "cell_type": "code",
   "execution_count": 34,
   "metadata": {},
   "outputs": [],
   "source": [
    "def simplify_col_names(df):\n",
    "    df['income_poverty'].replace('Below Poverty', 'Low', inplace = True)\n",
    "    df['income_poverty'].replace('<= $75,000, Above Poverty', 'Medium', inplace = True)\n",
    "    df['income_poverty'].replace('> $75,000', 'High', inplace = True)\n",
    "    \n",
    "    df['age_group'].replace('65+ Years', '65+', inplace = True)\n",
    "    df['age_group'].replace('55 - 64 Years', '55+', inplace = True)\n",
    "    df['age_group'].replace('45 - 54 Years', '45+', inplace = True)\n",
    "    df['age_group'].replace('35 - 44 Years', '35+', inplace = True)\n",
    "    df['age_group'].replace('18 - 34 Years', '18+', inplace = True)\n",
    "    \n",
    "    df['education'].replace('College Graduate', 'Very High', inplace = True)\n",
    "    df['education'].replace('Some College', 'High', inplace = True)\n",
    "    df['education'].replace('12 Years', 'Medium', inplace = True)\n",
    "    df['education'].replace('< 12 Years', 'Low', inplace = True)"
   ]
  },
  {
   "cell_type": "code",
   "execution_count": 35,
   "metadata": {},
   "outputs": [],
   "source": [
    "def engineer_features(df):\n",
    "    behavioral_cols = ['behavioral_antiviral_meds',\n",
    "                   'behavioral_avoidance',\n",
    "                   'behavioral_face_mask',\n",
    "                   'behavioral_wash_hands',\n",
    "                   'behavioral_large_gatherings',\n",
    "                   'behavioral_outside_home',\n",
    "                   'behavioral_touch_face']\n",
    "\n",
    "    #df['general_behavior'] = pd.Series(np.zeros(df.shape[0]), index = df.index)\n",
    "    #for b_col in behavioral_cols:\n",
    "    #   df['general_behavior'] += df[b_col]\n",
    "        \n",
    "    df['general_effective'] = df['opinion_h1n1_vacc_effective'] + df['opinion_seas_vacc_effective']\n",
    "\n",
    "    df['general_risk'] = df['opinion_h1n1_risk'] + df['opinion_seas_risk']\n",
    "    \n",
    "    df['general_eff_risk'] = df['general_effective'] + df['general_risk']\n",
    "    \n",
    "    df['general_reccomendation'] = df['doctor_recc_h1n1'] + df['doctor_recc_seasonal']"
   ]
  },
  {
   "cell_type": "markdown",
   "metadata": {},
   "source": [
    "# Loading Models"
   ]
  },
  {
   "cell_type": "code",
   "execution_count": 36,
   "metadata": {},
   "outputs": [],
   "source": [
    "preprocessor = pickle.load(open('models\\\\preprocessor.pkl', 'rb'))"
   ]
  },
  {
   "cell_type": "code",
   "execution_count": 37,
   "metadata": {},
   "outputs": [],
   "source": [
    "estimator_h1n1 = pickle.load(open('models\\\\estimator_h1n1.pkl', 'rb'))\n",
    "estimator_seas = pickle.load(open('models\\\\estimator_seas.pkl', 'rb'))"
   ]
  },
  {
   "cell_type": "markdown",
   "metadata": {},
   "source": [
    "# Modelling"
   ]
  },
  {
   "cell_type": "markdown",
   "metadata": {},
   "source": [
    "Build final pipelines:"
   ]
  },
  {
   "cell_type": "code",
   "execution_count": 38,
   "metadata": {},
   "outputs": [],
   "source": [
    "from sklearn.pipeline import Pipeline\n",
    "\n",
    "full_pipeline_h1n1 = Pipeline(steps=[('preprocessor', preprocessor),\n",
    "                                     ('estimator', estimator_h1n1)])\n",
    "\n",
    "full_pipeline_seas = Pipeline(steps=[('preprocessor', preprocessor),\n",
    "                                     ('estimator', estimator_seas)])"
   ]
  },
  {
   "cell_type": "markdown",
   "metadata": {},
   "source": [
    "Prepare input data:"
   ]
  },
  {
   "cell_type": "code",
   "execution_count": 39,
   "metadata": {},
   "outputs": [],
   "source": [
    "simplify_col_names(X_train_full)"
   ]
  },
  {
   "cell_type": "code",
   "execution_count": 40,
   "metadata": {},
   "outputs": [],
   "source": [
    "engineer_features(X_train_full)"
   ]
  },
  {
   "cell_type": "markdown",
   "metadata": {},
   "source": [
    "Fit pipeline to full train data:"
   ]
  },
  {
   "cell_type": "code",
   "execution_count": 41,
   "metadata": {},
   "outputs": [
    {
     "name": "stderr",
     "output_type": "stream",
     "text": [
      "[Parallel(n_jobs=1)]: Using backend SequentialBackend with 1 concurrent workers.\n",
      "[Parallel(n_jobs=1)]: Done   1 out of   1 | elapsed:   16.4s remaining:    0.0s\n",
      "[Parallel(n_jobs=1)]: Done   2 out of   2 | elapsed:   30.5s remaining:    0.0s\n",
      "[Parallel(n_jobs=1)]: Done   5 out of   5 | elapsed:  1.2min finished\n",
      "[Parallel(n_jobs=1)]: Using backend SequentialBackend with 1 concurrent workers.\n",
      "[Parallel(n_jobs=1)]: Done   1 out of   1 | elapsed:    4.5s remaining:    0.0s\n",
      "[Parallel(n_jobs=1)]: Done   2 out of   2 | elapsed:    9.2s remaining:    0.0s\n",
      "[Parallel(n_jobs=1)]: Done   5 out of   5 | elapsed:   22.9s finished\n",
      "[Parallel(n_jobs=1)]: Using backend SequentialBackend with 1 concurrent workers.\n",
      "[Parallel(n_jobs=1)]: Done   1 out of   1 | elapsed:  1.1min remaining:    0.0s\n",
      "[Parallel(n_jobs=1)]: Done   2 out of   2 | elapsed:  2.5min remaining:    0.0s\n",
      "[Parallel(n_jobs=1)]: Done   5 out of   5 | elapsed:  5.9min finished\n",
      "[Parallel(n_jobs=1)]: Using backend SequentialBackend with 1 concurrent workers.\n",
      "[Parallel(n_jobs=1)]: Done   1 out of   1 | elapsed:    0.0s remaining:    0.0s\n",
      "[Parallel(n_jobs=1)]: Done   2 out of   2 | elapsed:    0.1s remaining:    0.0s\n",
      "[Parallel(n_jobs=1)]: Done   5 out of   5 | elapsed:    0.3s finished\n",
      "[Parallel(n_jobs=1)]: Using backend SequentialBackend with 1 concurrent workers.\n",
      "[Parallel(n_jobs=1)]: Done   1 out of   1 | elapsed:    2.0s remaining:    0.0s\n",
      "[Parallel(n_jobs=1)]: Done   2 out of   2 | elapsed:    4.3s remaining:    0.0s\n",
      "[Parallel(n_jobs=1)]: Done   5 out of   5 | elapsed:   12.2s finished\n",
      "[Parallel(n_jobs=1)]: Using backend SequentialBackend with 1 concurrent workers.\n",
      "[Parallel(n_jobs=1)]: Done   1 out of   1 | elapsed:    0.3s remaining:    0.0s\n",
      "[Parallel(n_jobs=1)]: Done   2 out of   2 | elapsed:    0.7s remaining:    0.0s\n",
      "[Parallel(n_jobs=1)]: Done   5 out of   5 | elapsed:    1.8s finished\n"
     ]
    },
    {
     "data": {
      "text/plain": [
       "Pipeline(steps=[('preprocessor',\n",
       "                 ColumnTransformer(transformers=[('numerical_cols',\n",
       "                                                  SimpleImputer(strategy='most_frequent'),\n",
       "                                                  ['h1n1_concern',\n",
       "                                                   'h1n1_knowledge',\n",
       "                                                   'behavioral_antiviral_meds',\n",
       "                                                   'behavioral_avoidance',\n",
       "                                                   'behavioral_face_mask',\n",
       "                                                   'behavioral_wash_hands',\n",
       "                                                   'behavioral_large_gatherings',\n",
       "                                                   'behavioral_outside_home',\n",
       "                                                   'behavioral_touch_face',\n",
       "                                                   'doctor_recc_h1n1...\n",
       "                                                               num_parallel_tree=None,\n",
       "                                                               objective='reg:logistic',\n",
       "                                                               random_state=42,\n",
       "                                                               reg_alpha=None,\n",
       "                                                               reg_lambda=None,\n",
       "                                                               scale_pos_weight=None,\n",
       "                                                               subsample=0.8,\n",
       "                                                               tree_method=None,\n",
       "                                                               use_label_encoder=False,\n",
       "                                                               validate_parameters=None,\n",
       "                                                               verbosity=None)),\n",
       "                                                ('LightGBM',\n",
       "                                                 LGBMClassifier(colsample_bytree=0.9,\n",
       "                                                                learning_rate=0.05,\n",
       "                                                                min_child_samples=21,\n",
       "                                                                min_child_weight=0.0015,\n",
       "                                                                subsample=0.9))],\n",
       "                                    verbose=3))])"
      ]
     },
     "execution_count": 41,
     "metadata": {},
     "output_type": "execute_result"
    }
   ],
   "source": [
    "full_pipeline_h1n1.fit(X_train_full, y_train_full['h1n1_vaccine'])"
   ]
  },
  {
   "cell_type": "code",
   "execution_count": 42,
   "metadata": {},
   "outputs": [
    {
     "data": {
      "text/plain": [
       "Pipeline(steps=[('preprocessor',\n",
       "                 ColumnTransformer(transformers=[('numerical_cols',\n",
       "                                                  SimpleImputer(strategy='most_frequent'),\n",
       "                                                  ['h1n1_concern',\n",
       "                                                   'h1n1_knowledge',\n",
       "                                                   'behavioral_antiviral_meds',\n",
       "                                                   'behavioral_avoidance',\n",
       "                                                   'behavioral_face_mask',\n",
       "                                                   'behavioral_wash_hands',\n",
       "                                                   'behavioral_large_gatherings',\n",
       "                                                   'behavioral_outside_home',\n",
       "                                                   'behavioral_touch_face',\n",
       "                                                   'doctor_recc_h1n1...\n",
       "                                                               objective='reg:logistic',\n",
       "                                                               random_state=42,\n",
       "                                                               reg_alpha=None,\n",
       "                                                               reg_lambda=None,\n",
       "                                                               scale_pos_weight=None,\n",
       "                                                               subsample=0.7000000000000001,\n",
       "                                                               tree_method=None,\n",
       "                                                               use_label_encoder=False,\n",
       "                                                               validate_parameters=None,\n",
       "                                                               verbosity=None)),\n",
       "                                                ('LightGBM',\n",
       "                                                 LGBMClassifier(colsample_bytree=0.6,\n",
       "                                                                learning_rate=0.05,\n",
       "                                                                min_child_samples=23,\n",
       "                                                                min_child_weight=0.0015,\n",
       "                                                                subsample=0.8500000000000001))],\n",
       "                                    n_jobs=-1))])"
      ]
     },
     "execution_count": 42,
     "metadata": {},
     "output_type": "execute_result"
    }
   ],
   "source": [
    "full_pipeline_seas.fit(X_train_full, y_train_full['seasonal_vaccine'])"
   ]
  },
  {
   "cell_type": "markdown",
   "metadata": {},
   "source": [
    "# Making predictions"
   ]
  },
  {
   "cell_type": "code",
   "execution_count": 48,
   "metadata": {},
   "outputs": [],
   "source": [
    "simplify_col_names(X_test)"
   ]
  },
  {
   "cell_type": "code",
   "execution_count": 49,
   "metadata": {},
   "outputs": [],
   "source": [
    "engineer_features(X_test)"
   ]
  },
  {
   "cell_type": "code",
   "execution_count": 45,
   "metadata": {},
   "outputs": [],
   "source": [
    "pred_h1n1 = full_pipeline_h1n1.predict_proba(X_test)[:, 1]\n",
    "pred_seas = full_pipeline_seas.predict_proba(X_test)[:, 1]\n",
    "\n",
    "predictions = pd.DataFrame({'respondent_id': X_test.index,\n",
    "                            'h1n1_vaccine': pred_h1n1,\n",
    "                            'seasonal_vaccine': pred_seas\n",
    "                           })"
   ]
  },
  {
   "cell_type": "code",
   "execution_count": 46,
   "metadata": {},
   "outputs": [
    {
     "data": {
      "text/html": [
       "<div>\n",
       "<style scoped>\n",
       "    .dataframe tbody tr th:only-of-type {\n",
       "        vertical-align: middle;\n",
       "    }\n",
       "\n",
       "    .dataframe tbody tr th {\n",
       "        vertical-align: top;\n",
       "    }\n",
       "\n",
       "    .dataframe thead th {\n",
       "        text-align: right;\n",
       "    }\n",
       "</style>\n",
       "<table border=\"1\" class=\"dataframe\">\n",
       "  <thead>\n",
       "    <tr style=\"text-align: right;\">\n",
       "      <th></th>\n",
       "      <th>respondent_id</th>\n",
       "      <th>h1n1_vaccine</th>\n",
       "      <th>seasonal_vaccine</th>\n",
       "    </tr>\n",
       "  </thead>\n",
       "  <tbody>\n",
       "    <tr>\n",
       "      <th>0</th>\n",
       "      <td>26707</td>\n",
       "      <td>0.074206</td>\n",
       "      <td>0.157077</td>\n",
       "    </tr>\n",
       "    <tr>\n",
       "      <th>1</th>\n",
       "      <td>26708</td>\n",
       "      <td>0.059458</td>\n",
       "      <td>0.076690</td>\n",
       "    </tr>\n",
       "    <tr>\n",
       "      <th>2</th>\n",
       "      <td>26709</td>\n",
       "      <td>0.392030</td>\n",
       "      <td>0.791130</td>\n",
       "    </tr>\n",
       "    <tr>\n",
       "      <th>3</th>\n",
       "      <td>26710</td>\n",
       "      <td>0.635329</td>\n",
       "      <td>0.890688</td>\n",
       "    </tr>\n",
       "    <tr>\n",
       "      <th>4</th>\n",
       "      <td>26711</td>\n",
       "      <td>0.220992</td>\n",
       "      <td>0.443258</td>\n",
       "    </tr>\n",
       "    <tr>\n",
       "      <th>...</th>\n",
       "      <td>...</td>\n",
       "      <td>...</td>\n",
       "      <td>...</td>\n",
       "    </tr>\n",
       "    <tr>\n",
       "      <th>26703</th>\n",
       "      <td>53410</td>\n",
       "      <td>0.384730</td>\n",
       "      <td>0.558179</td>\n",
       "    </tr>\n",
       "    <tr>\n",
       "      <th>26704</th>\n",
       "      <td>53411</td>\n",
       "      <td>0.098033</td>\n",
       "      <td>0.237435</td>\n",
       "    </tr>\n",
       "    <tr>\n",
       "      <th>26705</th>\n",
       "      <td>53412</td>\n",
       "      <td>0.089594</td>\n",
       "      <td>0.152253</td>\n",
       "    </tr>\n",
       "    <tr>\n",
       "      <th>26706</th>\n",
       "      <td>53413</td>\n",
       "      <td>0.070351</td>\n",
       "      <td>0.323656</td>\n",
       "    </tr>\n",
       "    <tr>\n",
       "      <th>26707</th>\n",
       "      <td>53414</td>\n",
       "      <td>0.555684</td>\n",
       "      <td>0.657063</td>\n",
       "    </tr>\n",
       "  </tbody>\n",
       "</table>\n",
       "<p>26708 rows × 3 columns</p>\n",
       "</div>"
      ],
      "text/plain": [
       "       respondent_id  h1n1_vaccine  seasonal_vaccine\n",
       "0              26707      0.074206          0.157077\n",
       "1              26708      0.059458          0.076690\n",
       "2              26709      0.392030          0.791130\n",
       "3              26710      0.635329          0.890688\n",
       "4              26711      0.220992          0.443258\n",
       "...              ...           ...               ...\n",
       "26703          53410      0.384730          0.558179\n",
       "26704          53411      0.098033          0.237435\n",
       "26705          53412      0.089594          0.152253\n",
       "26706          53413      0.070351          0.323656\n",
       "26707          53414      0.555684          0.657063\n",
       "\n",
       "[26708 rows x 3 columns]"
      ]
     },
     "execution_count": 46,
     "metadata": {},
     "output_type": "execute_result"
    }
   ],
   "source": [
    "predictions"
   ]
  },
  {
   "cell_type": "code",
   "execution_count": 47,
   "metadata": {},
   "outputs": [],
   "source": [
    "predictions.to_csv('output_data\\\\predictions.csv', index = False)"
   ]
  }
 ],
 "metadata": {
  "kernelspec": {
   "display_name": "Python 3",
   "language": "python",
   "name": "python3"
  },
  "language_info": {
   "codemirror_mode": {
    "name": "ipython",
    "version": 3
   },
   "file_extension": ".py",
   "mimetype": "text/x-python",
   "name": "python",
   "nbconvert_exporter": "python",
   "pygments_lexer": "ipython3",
   "version": "3.8.3"
  }
 },
 "nbformat": 4,
 "nbformat_minor": 5
}
