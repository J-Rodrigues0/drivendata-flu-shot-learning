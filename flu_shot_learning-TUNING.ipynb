{
 "cells": [
  {
   "cell_type": "code",
   "execution_count": 1,
   "metadata": {},
   "outputs": [],
   "source": [
    "import numpy as np\n",
    "import pandas as pd\n",
    "import matplotlib.pyplot as plt\n",
    "import seaborn as sns\n",
    "\n",
    "%matplotlib inline\n",
    "sns.set()\n",
    "\n",
    "plt.rcParams['figure.figsize'] = [8.0, 8.0]\n",
    "plt.rcParams['figure.dpi'] = 140"
   ]
  },
  {
   "cell_type": "markdown",
   "metadata": {},
   "source": [
    "# Loading data"
   ]
  },
  {
   "cell_type": "code",
   "execution_count": 2,
   "metadata": {},
   "outputs": [],
   "source": [
    "X_train_full = pd.read_csv('interim_data\\\\preprocessed_train_features.csv', index_col = 'respondent_id')\n",
    "y_train_full = pd.read_csv('input_data\\\\training_set_labels.csv', index_col = 'respondent_id')"
   ]
  },
  {
   "cell_type": "code",
   "execution_count": 3,
   "metadata": {},
   "outputs": [],
   "source": [
    "train_df = X_train_full.join(y_train_full)"
   ]
  },
  {
   "cell_type": "markdown",
   "metadata": {},
   "source": [
    "# Loading models"
   ]
  },
  {
   "cell_type": "code",
   "execution_count": 4,
   "metadata": {},
   "outputs": [],
   "source": [
    "from xgboost import XGBClassifier\n",
    "from lightgbm import LGBMClassifier\n",
    "from sklearn.multioutput import MultiOutputClassifier"
   ]
  },
  {
   "cell_type": "markdown",
   "metadata": {},
   "source": [
    "# Hyperparameter Tuning"
   ]
  },
  {
   "cell_type": "markdown",
   "metadata": {},
   "source": [
    "## Importing Optuna"
   ]
  },
  {
   "cell_type": "code",
   "execution_count": 5,
   "metadata": {},
   "outputs": [],
   "source": [
    "import optuna\n",
    "from optuna import Trial, visualization"
   ]
  },
  {
   "cell_type": "markdown",
   "metadata": {},
   "source": [
    "## Making validation folds"
   ]
  },
  {
   "cell_type": "code",
   "execution_count": 6,
   "metadata": {},
   "outputs": [],
   "source": [
    "from sklearn.model_selection import KFold\n",
    "\n",
    "kf = KFold(n_splits = 5, random_state = 42, shuffle=True)\n",
    "\n",
    "for i, (trn, val) in enumerate(kf.split(train_df)):\n",
    "    train_df.loc[val, 'kfold'] = i\n",
    "    \n",
    "train_df['kfold'] = train_df['kfold'].astype(int)"
   ]
  },
  {
   "cell_type": "markdown",
   "metadata": {},
   "source": [
    "## XGBoost Tuning"
   ]
  },
  {
   "cell_type": "markdown",
   "metadata": {},
   "source": [
    "### XGBoost - H1N1 Vaccine"
   ]
  },
  {
   "cell_type": "code",
   "execution_count": 7,
   "metadata": {},
   "outputs": [],
   "source": [
    "feature_cols = [col for col in X_train_full.columns.tolist() if col not in ['h1n1_vaccine', 'seasonal_vaccine']]\n",
    "target_cols = ['h1n1_vaccine']"
   ]
  },
  {
   "cell_type": "code",
   "execution_count": 8,
   "metadata": {},
   "outputs": [],
   "source": [
    "def objective_xgb(trial):\n",
    "    roc = 0\n",
    "    for fold in range(5):\n",
    "        trn_idx = train_df['kfold'] != fold\n",
    "        val_idx = train_df['kfold'] == fold\n",
    "        trn = train_df.loc[trn_idx, :]\n",
    "        val = train_df.loc[val_idx, :]\n",
    "\n",
    "        x_tr, y_tr = trn[feature_cols].values, trn[target_cols].values\n",
    "        x_val, y_val = val[feature_cols].values, val[target_cols].values\n",
    "        \n",
    "        model, log = fit_xgb(trial, x_tr, y_tr, x_val, y_val)\n",
    "        roc += log['valid roc']/5\n",
    "        \n",
    "    return roc"
   ]
  },
  {
   "cell_type": "code",
   "execution_count": 9,
   "metadata": {},
   "outputs": [],
   "source": [
    "from sklearn.metrics import roc_auc_score\n",
    "\n",
    "def fit_xgb(trial, x_train, y_train, x_val, y_val):\n",
    "    params = {\n",
    "        \"n_estimators\": trial.suggest_categorical(\"n_estimators\", [70, 75, 80, 85, 90, 95, 100]),\n",
    "        \"learning_rate\": trial.suggest_categorical(\"learning_rate\", [0.025, 0.05, 0.75, 0.1]),\n",
    "        \"subsample\": trial.suggest_discrete_uniform(\"subsample\", 0.4,1,0.1),\n",
    "        \"colsample_bytree\": trial.suggest_discrete_uniform(\"colsample_bytree\", 0.8,1,0.1),\n",
    "        \"max_depth\": trial.suggest_categorical(\"max_depth\",[5,6,7,8,9,10]),\n",
    "        \"min_child_weight\": trial.suggest_int(\"min_child_weight\",1,5),\n",
    "        \"gamma\": 0,\n",
    "        \"base_score\": 0.5,\n",
    "        \"random_state\": 42,\n",
    "        \"use_label_encoder\": False,\n",
    "        \"objective\": 'reg:logistic',\n",
    "        \"tree_method\": 'exact'\n",
    "    }\n",
    "    \n",
    "    model = XGBClassifier(**params)\n",
    "    model.fit(x_train, y_train.reshape(-1,))\n",
    "\n",
    "    y_pred_tr = model.predict_proba(x_train)[:, 1]\n",
    "    y_pred_val = model.predict_proba(x_val)[:, 1]\n",
    "\n",
    "    log = {\n",
    "        \"train roc\": roc_auc_score(y_train, y_pred_tr),\n",
    "        \"valid roc\": roc_auc_score(y_val, y_pred_val)\n",
    "    }\n",
    "    \n",
    "    return model, log"
   ]
  },
  {
   "cell_type": "code",
   "execution_count": 10,
   "metadata": {},
   "outputs": [
    {
     "name": "stderr",
     "output_type": "stream",
     "text": [
      "\u001b[32m[I 2021-02-08 13:28:44,459]\u001b[0m A new study created in memory with name: XGBoost H1N1 Vaccine optimization\u001b[0m\n",
      "\u001b[32m[I 2021-02-08 13:29:01,497]\u001b[0m Trial 0 finished with value: 0.8347862840339456 and parameters: {'n_estimators': 80, 'learning_rate': 0.05, 'subsample': 1.0, 'colsample_bytree': 1.0, 'max_depth': 9, 'min_child_weight': 1}. Best is trial 0 with value: 0.8347862840339456.\u001b[0m\n",
      "\u001b[32m[I 2021-02-08 13:29:15,036]\u001b[0m Trial 1 finished with value: 0.8404091608123117 and parameters: {'n_estimators': 100, 'learning_rate': 0.1, 'subsample': 0.7000000000000001, 'colsample_bytree': 1.0, 'max_depth': 5, 'min_child_weight': 5}. Best is trial 1 with value: 0.8404091608123117.\u001b[0m\n",
      "\u001b[32m[I 2021-02-08 13:29:38,001]\u001b[0m Trial 2 finished with value: 0.8315592196542976 and parameters: {'n_estimators': 85, 'learning_rate': 0.1, 'subsample': 0.7000000000000001, 'colsample_bytree': 0.9, 'max_depth': 10, 'min_child_weight': 1}. Best is trial 1 with value: 0.8404091608123117.\u001b[0m\n",
      "\u001b[32m[I 2021-02-08 13:29:54,719]\u001b[0m Trial 3 finished with value: 0.8399668104373543 and parameters: {'n_estimators': 90, 'learning_rate': 0.05, 'subsample': 0.8, 'colsample_bytree': 0.9, 'max_depth': 7, 'min_child_weight': 4}. Best is trial 1 with value: 0.8404091608123117.\u001b[0m\n",
      "\u001b[32m[I 2021-02-08 13:30:14,647]\u001b[0m Trial 4 finished with value: 0.7834319835455037 and parameters: {'n_estimators': 100, 'learning_rate': 0.75, 'subsample': 0.9, 'colsample_bytree': 0.8, 'max_depth': 9, 'min_child_weight': 4}. Best is trial 1 with value: 0.8404091608123117.\u001b[0m\n",
      "\u001b[32m[I 2021-02-08 13:30:30,272]\u001b[0m Trial 5 finished with value: 0.8406726365224325 and parameters: {'n_estimators': 100, 'learning_rate': 0.1, 'subsample': 0.8, 'colsample_bytree': 0.9, 'max_depth': 6, 'min_child_weight': 4}. Best is trial 5 with value: 0.8406726365224325.\u001b[0m\n",
      "\u001b[32m[I 2021-02-08 13:30:47,758]\u001b[0m Trial 6 finished with value: 0.8381856911906727 and parameters: {'n_estimators': 100, 'learning_rate': 0.05, 'subsample': 1.0, 'colsample_bytree': 0.8, 'max_depth': 8, 'min_child_weight': 1}. Best is trial 5 with value: 0.8406726365224325.\u001b[0m\n",
      "\u001b[32m[I 2021-02-08 13:31:02,858]\u001b[0m Trial 7 finished with value: 0.8342836540503415 and parameters: {'n_estimators': 75, 'learning_rate': 0.1, 'subsample': 1.0, 'colsample_bytree': 0.8, 'max_depth': 9, 'min_child_weight': 1}. Best is trial 5 with value: 0.8406726365224325.\u001b[0m\n",
      "\u001b[32m[I 2021-02-08 13:31:22,048]\u001b[0m Trial 8 finished with value: 0.8326870060157072 and parameters: {'n_estimators': 85, 'learning_rate': 0.1, 'subsample': 1.0, 'colsample_bytree': 0.9, 'max_depth': 10, 'min_child_weight': 3}. Best is trial 5 with value: 0.8406726365224325.\u001b[0m\n",
      "\u001b[32m[I 2021-02-08 13:31:33,645]\u001b[0m Trial 9 finished with value: 0.8404641376216768 and parameters: {'n_estimators': 70, 'learning_rate': 0.1, 'subsample': 0.9, 'colsample_bytree': 1.0, 'max_depth': 6, 'min_child_weight': 4}. Best is trial 5 with value: 0.8406726365224325.\u001b[0m\n"
     ]
    }
   ],
   "source": [
    "XGB_study_H1N1 = optuna.create_study(direction=\"maximize\", study_name='XGBoost H1N1 Vaccine optimization')\n",
    "XGB_study_H1N1.optimize(objective_xgb, n_trials=10)"
   ]
  },
  {
   "cell_type": "code",
   "execution_count": 11,
   "metadata": {},
   "outputs": [
    {
     "data": {
      "text/plain": [
       "{'n_estimators': 100,\n",
       " 'learning_rate': 0.1,\n",
       " 'subsample': 0.8,\n",
       " 'colsample_bytree': 0.9,\n",
       " 'max_depth': 6,\n",
       " 'min_child_weight': 4}"
      ]
     },
     "execution_count": 11,
     "metadata": {},
     "output_type": "execute_result"
    }
   ],
   "source": [
    "XGB_study_H1N1.best_params"
   ]
  },
  {
   "cell_type": "code",
   "execution_count": 12,
   "metadata": {},
   "outputs": [],
   "source": [
    "import pickle\n",
    "from pathlib import Path\n",
    "\n",
    "root = Path(\".\")\n",
    "\n",
    "with open(root / \"models\\\\XGB_H1N1_best_params.pkl\",\"wb\") as f:\n",
    "    pickle.dump(XGB_study_H1N1.best_params, f)"
   ]
  },
  {
   "cell_type": "markdown",
   "metadata": {},
   "source": [
    "### XGBoost - Seasonal Vaccine"
   ]
  },
  {
   "cell_type": "code",
   "execution_count": 13,
   "metadata": {},
   "outputs": [],
   "source": [
    "feature_cols = [col for col in X_train_full.columns.tolist() if col not in ['h1n1_vaccine', 'seasonal_vaccine']]\n",
    "target_cols = ['seasonal_vaccine']"
   ]
  },
  {
   "cell_type": "code",
   "execution_count": 14,
   "metadata": {},
   "outputs": [
    {
     "name": "stderr",
     "output_type": "stream",
     "text": [
      "\u001b[32m[I 2021-02-08 13:31:33,720]\u001b[0m A new study created in memory with name: XGBoost Seasonal Vaccine optimization\u001b[0m\n",
      "\u001b[32m[I 2021-02-08 13:31:56,748]\u001b[0m Trial 0 finished with value: 0.7928851088865387 and parameters: {'n_estimators': 85, 'learning_rate': 0.75, 'subsample': 0.6000000000000001, 'colsample_bytree': 1.0, 'max_depth': 10, 'min_child_weight': 5}. Best is trial 0 with value: 0.7928851088865387.\u001b[0m\n",
      "\u001b[32m[I 2021-02-08 13:32:12,394]\u001b[0m Trial 1 finished with value: 0.860479647305666 and parameters: {'n_estimators': 95, 'learning_rate': 0.1, 'subsample': 0.7000000000000001, 'colsample_bytree': 0.9, 'max_depth': 6, 'min_child_weight': 4}. Best is trial 1 with value: 0.860479647305666.\u001b[0m\n",
      "\u001b[32m[I 2021-02-08 13:32:29,546]\u001b[0m Trial 2 finished with value: 0.8103376452252965 and parameters: {'n_estimators': 100, 'learning_rate': 0.75, 'subsample': 0.7000000000000001, 'colsample_bytree': 1.0, 'max_depth': 6, 'min_child_weight': 1}. Best is trial 1 with value: 0.860479647305666.\u001b[0m\n",
      "\u001b[32m[I 2021-02-08 13:32:51,427]\u001b[0m Trial 3 finished with value: 0.8578602481928881 and parameters: {'n_estimators': 85, 'learning_rate': 0.05, 'subsample': 0.7000000000000001, 'colsample_bytree': 0.8, 'max_depth': 10, 'min_child_weight': 4}. Best is trial 1 with value: 0.860479647305666.\u001b[0m\n",
      "\u001b[32m[I 2021-02-08 13:33:10,230]\u001b[0m Trial 4 finished with value: 0.8069405586897531 and parameters: {'n_estimators': 100, 'learning_rate': 0.75, 'subsample': 0.8, 'colsample_bytree': 0.8, 'max_depth': 8, 'min_child_weight': 5}. Best is trial 1 with value: 0.860479647305666.\u001b[0m\n",
      "\u001b[32m[I 2021-02-08 13:33:28,062]\u001b[0m Trial 5 finished with value: 0.8109411754023912 and parameters: {'n_estimators': 100, 'learning_rate': 0.75, 'subsample': 0.8, 'colsample_bytree': 0.9, 'max_depth': 7, 'min_child_weight': 3}. Best is trial 1 with value: 0.860479647305666.\u001b[0m\n",
      "\u001b[32m[I 2021-02-08 13:33:48,361]\u001b[0m Trial 6 finished with value: 0.7938591748125352 and parameters: {'n_estimators': 100, 'learning_rate': 0.75, 'subsample': 0.6000000000000001, 'colsample_bytree': 0.8, 'max_depth': 8, 'min_child_weight': 4}. Best is trial 1 with value: 0.860479647305666.\u001b[0m\n",
      "\u001b[32m[I 2021-02-08 13:34:03,141]\u001b[0m Trial 7 finished with value: 0.8582072365354916 and parameters: {'n_estimators': 75, 'learning_rate': 0.05, 'subsample': 0.9, 'colsample_bytree': 0.8, 'max_depth': 8, 'min_child_weight': 5}. Best is trial 1 with value: 0.860479647305666.\u001b[0m\n",
      "\u001b[32m[I 2021-02-08 13:34:14,707]\u001b[0m Trial 8 finished with value: 0.8254536228742468 and parameters: {'n_estimators': 80, 'learning_rate': 0.75, 'subsample': 0.7000000000000001, 'colsample_bytree': 0.9, 'max_depth': 5, 'min_child_weight': 3}. Best is trial 1 with value: 0.860479647305666.\u001b[0m\n",
      "\u001b[32m[I 2021-02-08 13:34:30,411]\u001b[0m Trial 9 finished with value: 0.8599664979802274 and parameters: {'n_estimators': 95, 'learning_rate': 0.1, 'subsample': 0.6000000000000001, 'colsample_bytree': 0.9, 'max_depth': 6, 'min_child_weight': 5}. Best is trial 1 with value: 0.860479647305666.\u001b[0m\n"
     ]
    }
   ],
   "source": [
    "XGB_study_SEAS = optuna.create_study(direction=\"maximize\", study_name='XGBoost Seasonal Vaccine optimization')\n",
    "XGB_study_SEAS.optimize(objective_xgb, n_trials=10)"
   ]
  },
  {
   "cell_type": "code",
   "execution_count": 15,
   "metadata": {},
   "outputs": [
    {
     "data": {
      "text/plain": [
       "{'n_estimators': 95,\n",
       " 'learning_rate': 0.1,\n",
       " 'subsample': 0.7000000000000001,\n",
       " 'colsample_bytree': 0.9,\n",
       " 'max_depth': 6,\n",
       " 'min_child_weight': 4}"
      ]
     },
     "execution_count": 15,
     "metadata": {},
     "output_type": "execute_result"
    }
   ],
   "source": [
    "XGB_study_SEAS.best_params"
   ]
  },
  {
   "cell_type": "code",
   "execution_count": 16,
   "metadata": {},
   "outputs": [],
   "source": [
    "with open(root / \"models\\\\XGB_SEAS_best_params.pkl\",\"wb\") as f:\n",
    "    pickle.dump(XGB_study_SEAS.best_params, f)"
   ]
  },
  {
   "cell_type": "markdown",
   "metadata": {},
   "source": [
    "## LightGBM"
   ]
  },
  {
   "cell_type": "markdown",
   "metadata": {},
   "source": [
    "### LightGBM - H1N1 Vaccine"
   ]
  },
  {
   "cell_type": "code",
   "execution_count": 17,
   "metadata": {},
   "outputs": [],
   "source": [
    "feature_cols = [col for col in X_train_full.columns.tolist() if col not in ['h1n1_vaccine', 'seasonal_vaccine']]\n",
    "target_cols = ['h1n1_vaccine']"
   ]
  },
  {
   "cell_type": "code",
   "execution_count": 18,
   "metadata": {},
   "outputs": [],
   "source": [
    "def objective_lgbm(trial):\n",
    "    roc = 0\n",
    "    for fold in range(5):\n",
    "        trn_idx = train_df['kfold'] != fold\n",
    "        val_idx = train_df['kfold'] == fold\n",
    "        trn = train_df.loc[trn_idx, :]\n",
    "        val = train_df.loc[val_idx, :]\n",
    "\n",
    "        x_tr, y_tr = trn[feature_cols].values, trn[target_cols].values\n",
    "        x_val, y_val = val[feature_cols].values, val[target_cols].values\n",
    "        \n",
    "        model, log = fit_lgbm(trial, x_tr, y_tr, x_val, y_val)\n",
    "        roc += log['valid roc']/5\n",
    "        \n",
    "    return roc"
   ]
  },
  {
   "cell_type": "code",
   "execution_count": 19,
   "metadata": {},
   "outputs": [],
   "source": [
    "def fit_lgbm(trial, x_train, y_train, x_val, y_val):\n",
    "    params = {\n",
    "        \"n_estimators\": trial.suggest_int(\"n_estimators\", 60, 150, 10),\n",
    "        \"learning_rate\": trial.suggest_categorical(\"learning_rate\", [0.025, 0.05, 0.75, 0.1]),\n",
    "        \"subsample\": trial.suggest_discrete_uniform(\"subsample\", 0.8,1,0.05),\n",
    "        \"colsample_bytree\": trial.suggest_discrete_uniform(\"colsample_bytree\", 0.6,0.9,0.05),\n",
    "        \"min_child_samples\": trial.suggest_int(\"min_child_samples\",18,30),\n",
    "        \"min_child_weight\": trial.suggest_discrete_uniform(\"min_child_weight\",0.0005,0.0015,0.0005),\n",
    "        \"max_depth\": -1,\n",
    "        \"random_state\": 42,\n",
    "        \"silent\":True\n",
    "    }\n",
    "    \n",
    "    model = LGBMClassifier(**params)\n",
    "    model.fit(x_train, y_train.reshape(-1,))\n",
    "\n",
    "    y_pred_tr = model.predict_proba(x_train)[:, 1]\n",
    "    y_pred_val = model.predict_proba(x_val)[:, 1]\n",
    "\n",
    "    log = {\n",
    "        \"train roc\": roc_auc_score(y_train, y_pred_tr),\n",
    "        \"valid roc\": roc_auc_score(y_val, y_pred_val)\n",
    "    }\n",
    "    \n",
    "    return model, log"
   ]
  },
  {
   "cell_type": "code",
   "execution_count": 20,
   "metadata": {},
   "outputs": [
    {
     "name": "stderr",
     "output_type": "stream",
     "text": [
      "\u001b[32m[I 2021-02-08 13:34:30,531]\u001b[0m A new study created in memory with name: LightGBM H1N1 Vaccine optimization\u001b[0m\n",
      "\u001b[32m[I 2021-02-08 13:34:32,718]\u001b[0m Trial 0 finished with value: 0.8405809466201781 and parameters: {'n_estimators': 60, 'learning_rate': 0.1, 'subsample': 0.8500000000000001, 'colsample_bytree': 0.6, 'min_child_samples': 21, 'min_child_weight': 0.0015}. Best is trial 0 with value: 0.8405809466201781.\u001b[0m\n",
      "\u001b[32m[I 2021-02-08 13:34:34,926]\u001b[0m Trial 1 finished with value: 0.7916201137008586 and parameters: {'n_estimators': 100, 'learning_rate': 0.75, 'subsample': 0.8, 'colsample_bytree': 0.8, 'min_child_samples': 28, 'min_child_weight': 0.0015}. Best is trial 0 with value: 0.8405809466201781.\u001b[0m\n",
      "\u001b[32m[I 2021-02-08 13:34:37,209]\u001b[0m Trial 2 finished with value: 0.8348162617675492 and parameters: {'n_estimators': 60, 'learning_rate': 0.025, 'subsample': 0.8500000000000001, 'colsample_bytree': 0.6, 'min_child_samples': 28, 'min_child_weight': 0.0015}. Best is trial 0 with value: 0.8405809466201781.\u001b[0m\n",
      "\u001b[32m[I 2021-02-08 13:34:39,508]\u001b[0m Trial 3 finished with value: 0.7990704761528692 and parameters: {'n_estimators': 70, 'learning_rate': 0.75, 'subsample': 1.0, 'colsample_bytree': 0.6, 'min_child_samples': 25, 'min_child_weight': 0.001}. Best is trial 0 with value: 0.8405809466201781.\u001b[0m\n",
      "\u001b[32m[I 2021-02-08 13:34:42,155]\u001b[0m Trial 4 finished with value: 0.7892424589424436 and parameters: {'n_estimators': 130, 'learning_rate': 0.75, 'subsample': 0.9500000000000001, 'colsample_bytree': 0.75, 'min_child_samples': 20, 'min_child_weight': 0.0015}. Best is trial 0 with value: 0.8405809466201781.\u001b[0m\n",
      "\u001b[32m[I 2021-02-08 13:34:45,043]\u001b[0m Trial 5 finished with value: 0.8406850086971981 and parameters: {'n_estimators': 100, 'learning_rate': 0.05, 'subsample': 0.9, 'colsample_bytree': 0.9, 'min_child_samples': 21, 'min_child_weight': 0.0015}. Best is trial 5 with value: 0.8406850086971981.\u001b[0m\n",
      "\u001b[32m[I 2021-02-08 13:34:47,776]\u001b[0m Trial 6 finished with value: 0.8361360209522333 and parameters: {'n_estimators': 80, 'learning_rate': 0.025, 'subsample': 1.0, 'colsample_bytree': 0.75, 'min_child_samples': 19, 'min_child_weight': 0.0005}. Best is trial 5 with value: 0.8406850086971981.\u001b[0m\n",
      "\u001b[32m[I 2021-02-08 13:34:50,690]\u001b[0m Trial 7 finished with value: 0.789191025374788 and parameters: {'n_estimators': 110, 'learning_rate': 0.75, 'subsample': 0.9500000000000001, 'colsample_bytree': 0.65, 'min_child_samples': 26, 'min_child_weight': 0.001}. Best is trial 5 with value: 0.8406850086971981.\u001b[0m\n",
      "\u001b[32m[I 2021-02-08 13:34:53,428]\u001b[0m Trial 8 finished with value: 0.8405599190732044 and parameters: {'n_estimators': 90, 'learning_rate': 0.1, 'subsample': 1.0, 'colsample_bytree': 0.6, 'min_child_samples': 25, 'min_child_weight': 0.0005}. Best is trial 5 with value: 0.8406850086971981.\u001b[0m\n",
      "\u001b[32m[I 2021-02-08 13:34:55,677]\u001b[0m Trial 9 finished with value: 0.7900275495534615 and parameters: {'n_estimators': 100, 'learning_rate': 0.75, 'subsample': 0.9, 'colsample_bytree': 0.65, 'min_child_samples': 22, 'min_child_weight': 0.0005}. Best is trial 5 with value: 0.8406850086971981.\u001b[0m\n"
     ]
    }
   ],
   "source": [
    "LGBM_study_H1N1 = optuna.create_study(direction=\"maximize\", study_name='LightGBM H1N1 Vaccine optimization')\n",
    "LGBM_study_H1N1.optimize(objective_lgbm, n_trials=10)"
   ]
  },
  {
   "cell_type": "code",
   "execution_count": 21,
   "metadata": {},
   "outputs": [
    {
     "data": {
      "text/plain": [
       "{'n_estimators': 100,\n",
       " 'learning_rate': 0.05,\n",
       " 'subsample': 0.9,\n",
       " 'colsample_bytree': 0.9,\n",
       " 'min_child_samples': 21,\n",
       " 'min_child_weight': 0.0015}"
      ]
     },
     "execution_count": 21,
     "metadata": {},
     "output_type": "execute_result"
    }
   ],
   "source": [
    "LGBM_study_H1N1.best_params"
   ]
  },
  {
   "cell_type": "code",
   "execution_count": 22,
   "metadata": {},
   "outputs": [],
   "source": [
    "with open(root / \"models\\\\LGBM_H1N1_best_params.pkl\",\"wb\") as f:\n",
    "    pickle.dump(LGBM_study_H1N1.best_params, f)"
   ]
  },
  {
   "cell_type": "markdown",
   "metadata": {},
   "source": [
    "### LightGBM - Seasonal Vaccine"
   ]
  },
  {
   "cell_type": "code",
   "execution_count": 23,
   "metadata": {},
   "outputs": [],
   "source": [
    "feature_cols = [col for col in X_train_full.columns.tolist() if col not in ['h1n1_vaccine', 'seasonal_vaccine']]\n",
    "target_cols = ['seasonal_vaccine']"
   ]
  },
  {
   "cell_type": "code",
   "execution_count": 24,
   "metadata": {},
   "outputs": [
    {
     "name": "stderr",
     "output_type": "stream",
     "text": [
      "\u001b[32m[I 2021-02-08 13:34:55,746]\u001b[0m A new study created in memory with name: LightGBM Seasonal Vaccine optimization\u001b[0m\n",
      "\u001b[32m[I 2021-02-08 13:34:58,782]\u001b[0m Trial 0 finished with value: 0.8604499069106137 and parameters: {'n_estimators': 100, 'learning_rate': 0.05, 'subsample': 0.8500000000000001, 'colsample_bytree': 0.6, 'min_child_samples': 23, 'min_child_weight': 0.0015}. Best is trial 0 with value: 0.8604499069106137.\u001b[0m\n",
      "\u001b[32m[I 2021-02-08 13:35:01,753]\u001b[0m Trial 1 finished with value: 0.8539760874661093 and parameters: {'n_estimators': 90, 'learning_rate': 0.025, 'subsample': 0.9500000000000001, 'colsample_bytree': 0.85, 'min_child_samples': 23, 'min_child_weight': 0.0015}. Best is trial 0 with value: 0.8604499069106137.\u001b[0m\n",
      "\u001b[32m[I 2021-02-08 13:35:04,479]\u001b[0m Trial 2 finished with value: 0.8529183157327982 and parameters: {'n_estimators': 80, 'learning_rate': 0.025, 'subsample': 0.8, 'colsample_bytree': 0.75, 'min_child_samples': 22, 'min_child_weight': 0.0005}. Best is trial 0 with value: 0.8604499069106137.\u001b[0m\n",
      "\u001b[32m[I 2021-02-08 13:35:07,188]\u001b[0m Trial 3 finished with value: 0.8175072865486697 and parameters: {'n_estimators': 140, 'learning_rate': 0.75, 'subsample': 0.8500000000000001, 'colsample_bytree': 0.85, 'min_child_samples': 28, 'min_child_weight': 0.0015}. Best is trial 0 with value: 0.8604499069106137.\u001b[0m\n",
      "\u001b[32m[I 2021-02-08 13:35:10,317]\u001b[0m Trial 4 finished with value: 0.8179066158555756 and parameters: {'n_estimators': 130, 'learning_rate': 0.75, 'subsample': 0.8, 'colsample_bytree': 0.65, 'min_child_samples': 27, 'min_child_weight': 0.001}. Best is trial 0 with value: 0.8604499069106137.\u001b[0m\n",
      "\u001b[32m[I 2021-02-08 13:35:14,208]\u001b[0m Trial 5 finished with value: 0.8584022421496813 and parameters: {'n_estimators': 140, 'learning_rate': 0.025, 'subsample': 1.0, 'colsample_bytree': 0.8, 'min_child_samples': 19, 'min_child_weight': 0.0005}. Best is trial 0 with value: 0.8604499069106137.\u001b[0m\n",
      "\u001b[32m[I 2021-02-08 13:35:17,144]\u001b[0m Trial 6 finished with value: 0.8189763261727534 and parameters: {'n_estimators': 130, 'learning_rate': 0.75, 'subsample': 1.0, 'colsample_bytree': 0.75, 'min_child_samples': 30, 'min_child_weight': 0.001}. Best is trial 0 with value: 0.8604499069106137.\u001b[0m\n",
      "\u001b[32m[I 2021-02-08 13:35:19,923]\u001b[0m Trial 7 finished with value: 0.8600302473333643 and parameters: {'n_estimators': 130, 'learning_rate': 0.1, 'subsample': 0.9, 'colsample_bytree': 0.65, 'min_child_samples': 29, 'min_child_weight': 0.0015}. Best is trial 0 with value: 0.8604499069106137.\u001b[0m\n",
      "\u001b[32m[I 2021-02-08 13:35:22,021]\u001b[0m Trial 8 finished with value: 0.8283392497780299 and parameters: {'n_estimators': 60, 'learning_rate': 0.75, 'subsample': 1.0, 'colsample_bytree': 0.7, 'min_child_samples': 23, 'min_child_weight': 0.0015}. Best is trial 0 with value: 0.8604499069106137.\u001b[0m\n",
      "\u001b[32m[I 2021-02-08 13:35:24,357]\u001b[0m Trial 9 finished with value: 0.8511424338220186 and parameters: {'n_estimators': 60, 'learning_rate': 0.025, 'subsample': 0.8500000000000001, 'colsample_bytree': 0.7, 'min_child_samples': 28, 'min_child_weight': 0.0015}. Best is trial 0 with value: 0.8604499069106137.\u001b[0m\n"
     ]
    }
   ],
   "source": [
    "LGBM_study_SEAS = optuna.create_study(direction=\"maximize\", study_name='LightGBM Seasonal Vaccine optimization')\n",
    "LGBM_study_SEAS.optimize(objective_lgbm, n_trials=10)"
   ]
  },
  {
   "cell_type": "code",
   "execution_count": 25,
   "metadata": {},
   "outputs": [
    {
     "data": {
      "text/plain": [
       "{'n_estimators': 100,\n",
       " 'learning_rate': 0.05,\n",
       " 'subsample': 0.8500000000000001,\n",
       " 'colsample_bytree': 0.6,\n",
       " 'min_child_samples': 23,\n",
       " 'min_child_weight': 0.0015}"
      ]
     },
     "execution_count": 25,
     "metadata": {},
     "output_type": "execute_result"
    }
   ],
   "source": [
    "LGBM_study_SEAS.best_params"
   ]
  },
  {
   "cell_type": "code",
   "execution_count": 26,
   "metadata": {},
   "outputs": [],
   "source": [
    "with open(root / \"models\\\\LGBM_SEAS_best_params.pkl\",\"wb\") as f:\n",
    "    pickle.dump(LGBM_study_SEAS.best_params, f)"
   ]
  }
 ],
 "metadata": {
  "kernelspec": {
   "display_name": "Python 3",
   "language": "python",
   "name": "python3"
  },
  "language_info": {
   "codemirror_mode": {
    "name": "ipython",
    "version": 3
   },
   "file_extension": ".py",
   "mimetype": "text/x-python",
   "name": "python",
   "nbconvert_exporter": "python",
   "pygments_lexer": "ipython3",
   "version": "3.8.3"
  }
 },
 "nbformat": 4,
 "nbformat_minor": 4
}
