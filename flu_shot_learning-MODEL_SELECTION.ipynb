{
 "cells": [
  {
   "cell_type": "code",
   "execution_count": 1,
   "metadata": {},
   "outputs": [],
   "source": [
    "import numpy as np\n",
    "import pandas as pd\n",
    "import matplotlib.pyplot as plt\n",
    "import seaborn as sns\n",
    "import pickle\n",
    "from pathlib import Path\n",
    "\n",
    "root = Path(\".\")\n",
    "\n",
    "%matplotlib inline\n",
    "sns.set()\n",
    "\n",
    "plt.rcParams['figure.figsize'] = [8.0, 8.0]\n",
    "plt.rcParams['figure.dpi'] = 140"
   ]
  },
  {
   "cell_type": "markdown",
   "metadata": {},
   "source": [
    "# Loading data"
   ]
  },
  {
   "cell_type": "code",
   "execution_count": 2,
   "metadata": {},
   "outputs": [],
   "source": [
    "X_train_full = pd.read_csv('interim_data\\\\preprocessed_train_features.csv', index_col = 'respondent_id')\n",
    "y_train_full = pd.read_csv('input_data\\\\training_set_labels.csv', index_col = 'respondent_id')"
   ]
  },
  {
   "cell_type": "code",
   "execution_count": 3,
   "metadata": {},
   "outputs": [],
   "source": [
    "from sklearn.preprocessing import StandardScaler\n",
    "\n",
    "scaler = StandardScaler()\n",
    "\n",
    "X_train_full = pd.DataFrame(scaler.fit_transform(X_train_full), columns=X_train_full.columns, index=X_train_full.index)"
   ]
  },
  {
   "cell_type": "code",
   "execution_count": 4,
   "metadata": {},
   "outputs": [],
   "source": [
    "train_df = X_train_full.join(y_train_full)"
   ]
  },
  {
   "cell_type": "markdown",
   "metadata": {},
   "source": [
    "# Loading test models"
   ]
  },
  {
   "cell_type": "code",
   "execution_count": 5,
   "metadata": {},
   "outputs": [],
   "source": [
    "from sklearn.linear_model import LogisticRegressionCV, RidgeClassifierCV\n",
    "from sklearn.neighbors import KNeighborsClassifier\n",
    "from sklearn.neural_network import MLPClassifier\n",
    "from sklearn.naive_bayes import GaussianNB"
   ]
  },
  {
   "cell_type": "code",
   "execution_count": 6,
   "metadata": {},
   "outputs": [],
   "source": [
    "LogReg_class_h1n1 = LogisticRegressionCV(max_iter=1000, n_jobs=-1)\n",
    "LogReg_class_seas = LogisticRegressionCV(max_iter=1000, n_jobs=-1)"
   ]
  },
  {
   "cell_type": "code",
   "execution_count": 7,
   "metadata": {},
   "outputs": [],
   "source": [
    "Ridge_class_h1n1 = RidgeClassifierCV(alphas=[0.1, 0.25, 0.5, 1, 5, 10], cv=5)\n",
    "Ridge_class_seas = RidgeClassifierCV(alphas=[0.1, 0.25, 0.5, 1, 5, 10], cv=5)"
   ]
  },
  {
   "cell_type": "code",
   "execution_count": 8,
   "metadata": {},
   "outputs": [],
   "source": [
    "KNN_class_h1n1 = KNeighborsClassifier(n_neighbors=200, weights='distance', n_jobs=-1)\n",
    "KNN_class_seas = KNeighborsClassifier(n_neighbors=200, weights='distance', n_jobs=-1)"
   ]
  },
  {
   "cell_type": "code",
   "execution_count": 9,
   "metadata": {},
   "outputs": [],
   "source": [
    "MLP_class_h1n1 = MLPClassifier(max_iter=1000)\n",
    "MLP_class_seas = MLPClassifier(max_iter=1000)"
   ]
  },
  {
   "cell_type": "code",
   "execution_count": 10,
   "metadata": {},
   "outputs": [],
   "source": [
    "GaussNB_class_h1n1 = GaussianNB()\n",
    "GaussNB_class_seas = GaussianNB()"
   ]
  },
  {
   "cell_type": "code",
   "execution_count": 11,
   "metadata": {},
   "outputs": [],
   "source": [
    "from xgboost import XGBClassifier\n",
    "\n",
    "with open(root / \"models\\\\XGB_H1N1_best_params.pkl\",\"rb\") as f:\n",
    "    XGB_params_h1n1 = pickle.load(f)\n",
    "\n",
    "XGB_class_h1n1 = XGBClassifier(**XGB_params_h1n1, objective='reg:logistic', random_state=42, use_label_encoder=False)\n",
    "\n",
    "with open(root / \"models\\\\XGB_SEAS_best_params.pkl\",\"rb\") as f:\n",
    "    XGB_params_seas = pickle.load(f)\n",
    "\n",
    "XGB_class_seas = XGBClassifier(**XGB_params_seas, objective='reg:logistic', random_state=42, use_label_encoder=False)"
   ]
  },
  {
   "cell_type": "code",
   "execution_count": 12,
   "metadata": {},
   "outputs": [],
   "source": [
    "from lightgbm import LGBMClassifier\n",
    "\n",
    "with open(root / \"models\\\\LGBM_H1N1_best_params.pkl\",\"rb\") as f:\n",
    "    LGBM_params_h1n1 = pickle.load(f)\n",
    "\n",
    "LGBM_class_h1n1 = LGBMClassifier(**LGBM_params_h1n1)\n",
    "\n",
    "with open(root / \"models\\\\LGBM_SEAS_best_params.pkl\",\"rb\") as f:\n",
    "    LGBM_params_seas = pickle.load(f)\n",
    "\n",
    "LGBM_class_seas = LGBMClassifier(**LGBM_params_seas)"
   ]
  },
  {
   "cell_type": "code",
   "execution_count": 13,
   "metadata": {},
   "outputs": [],
   "source": [
    "from catboost import CatBoostClassifier\n",
    "\n",
    "CAT_params_h1n1 = {}\n",
    "\n",
    "CAT_class_h1n1 = CatBoostClassifier(**CAT_params_h1n1)\n",
    "\n",
    "CAT_params_seas = {}\n",
    "\n",
    "CAT_class_seas = CatBoostClassifier(**CAT_params_seas)"
   ]
  },
  {
   "cell_type": "code",
   "execution_count": 14,
   "metadata": {},
   "outputs": [],
   "source": [
    "from sklearn.ensemble import StackingClassifier\n",
    "\n",
    "STACK_class_h1n1 = StackingClassifier(estimators=[('Logist', LogReg_class_h1n1),\n",
    "                                                  ('KNN', KNN_class_h1n1),\n",
    "                                                  ('MLP', MLP_class_h1n1),\n",
    "                                                  ('GaussNB', GaussNB_class_h1n1),\n",
    "                                                  ('XGBoost', XGB_class_h1n1),\n",
    "                                                  ('LightGBM', LGBM_class_h1n1),\n",
    "                                                  ('CatBoost', CAT_class_h1n1)],\n",
    "                                      n_jobs=-1,\n",
    "                                      verbose=3)\n",
    "\n",
    "STACK_class_seas = StackingClassifier(estimators=[('Logist', LogReg_class_seas),\n",
    "                                                  ('KNN', KNN_class_seas),\n",
    "                                                  ('MLP', MLP_class_seas),\n",
    "                                                  ('GaussNB', GaussNB_class_seas),\n",
    "                                                  ('XGBoost', XGB_class_seas),\n",
    "                                                  ('LightGBM', LGBM_class_seas),\n",
    "                                                  ('CatBoost', CAT_class_seas)],\n",
    "                                      n_jobs=-1,\n",
    "                                      verbose=3)"
   ]
  },
  {
   "cell_type": "code",
   "execution_count": 15,
   "metadata": {},
   "outputs": [],
   "source": [
    "models_h1n1 = {'Logist': LogReg_class_h1n1,\n",
    "               'RidgeCV': Ridge_class_h1n1,\n",
    "               'KNN': KNN_class_h1n1,\n",
    "               'MLP': MLP_class_h1n1,\n",
    "               'GaussNB': GaussNB_class_h1n1,\n",
    "               'XGB': XGB_class_h1n1,\n",
    "               'LGBM': LGBM_class_h1n1,\n",
    "               'CAT': CAT_class_h1n1,\n",
    "               'STACK': STACK_class_h1n1}"
   ]
  },
  {
   "cell_type": "code",
   "execution_count": 16,
   "metadata": {},
   "outputs": [],
   "source": [
    "models_seas = {'Logist': LogReg_class_seas,\n",
    "               'RidgeCV': Ridge_class_seas,\n",
    "               'KNN': KNN_class_seas,\n",
    "               'MLP': MLP_class_seas,\n",
    "               'GaussNB': GaussNB_class_seas,\n",
    "               'XGB': XGB_class_seas,\n",
    "               'LGBM': LGBM_class_seas,\n",
    "               'CAT': CAT_class_seas,\n",
    "               'STACK': STACK_class_seas}"
   ]
  },
  {
   "cell_type": "markdown",
   "metadata": {},
   "source": [
    "# Cross-validating models"
   ]
  },
  {
   "cell_type": "code",
   "execution_count": 17,
   "metadata": {},
   "outputs": [],
   "source": [
    "from sklearn.model_selection import KFold\n",
    "\n",
    "N_folds = 5\n",
    "kf = KFold(n_splits=N_folds, random_state=42, shuffle=True)\n",
    "\n",
    "for i, (trn, val) in enumerate(kf.split(train_df)):\n",
    "    train_df.loc[val, 'kfold'] = i\n",
    "    \n",
    "train_df['kfold'] = train_df['kfold'].astype(int)"
   ]
  },
  {
   "cell_type": "code",
   "execution_count": 18,
   "metadata": {},
   "outputs": [],
   "source": [
    "from sklearn.metrics import roc_auc_score, roc_curve"
   ]
  },
  {
   "cell_type": "code",
   "execution_count": 19,
   "metadata": {},
   "outputs": [],
   "source": [
    "def cross_validate_model(model_name, model_dict, mean_roc_dict, fit_params = {}):\n",
    "    model = model_dict[model_name]\n",
    "    print(model_name)\n",
    "    mean_roc = 0\n",
    "    for fold in range(N_folds):\n",
    "        print(f'Fold: {fold}')\n",
    "        train_idx = train_df['kfold'] != fold\n",
    "        valid_idx = train_df['kfold'] == fold\n",
    "        train = train_df.loc[train_idx, :]\n",
    "        valid = train_df.loc[valid_idx, :]\n",
    "        \n",
    "        x_train, y_train = train[feature_cols].values, train[target_cols].values\n",
    "        x_valid, y_valid = valid[feature_cols].values, valid[target_cols].values\n",
    "        \n",
    "        model.fit(x_train, y_train.reshape(-1,), **fit_params)\n",
    "        \n",
    "        try:\n",
    "            y_pred_valid = model.predict_proba(x_valid)[:, 1]\n",
    "        except:\n",
    "            y_pred_valid = model.predict(x_valid)\n",
    "            \n",
    "        mean_roc += roc_auc_score(y_valid, y_pred_valid)/5\n",
    "        \n",
    "    mean_roc_dict[model_name] = [model, mean_roc]"
   ]
  },
  {
   "cell_type": "markdown",
   "metadata": {},
   "source": [
    "## H1N1 Label"
   ]
  },
  {
   "cell_type": "code",
   "execution_count": 20,
   "metadata": {},
   "outputs": [],
   "source": [
    "mean_roc_dict_h1n1 = {}"
   ]
  },
  {
   "cell_type": "code",
   "execution_count": 21,
   "metadata": {},
   "outputs": [],
   "source": [
    "feature_cols = [col for col in X_train_full.columns.tolist() if col not in ['h1n1_vaccine', 'seasonal_vaccine']]\n",
    "target_cols = ['h1n1_vaccine']"
   ]
  },
  {
   "cell_type": "code",
   "execution_count": 22,
   "metadata": {},
   "outputs": [
    {
     "name": "stdout",
     "output_type": "stream",
     "text": [
      "Logist\n",
      "Fold: 0\n",
      "Fold: 1\n",
      "Fold: 2\n",
      "Fold: 3\n",
      "Fold: 4\n"
     ]
    }
   ],
   "source": [
    "cross_validate_model('Logist', models_h1n1, mean_roc_dict_h1n1)"
   ]
  },
  {
   "cell_type": "code",
   "execution_count": 23,
   "metadata": {},
   "outputs": [
    {
     "name": "stdout",
     "output_type": "stream",
     "text": [
      "RidgeCV\n",
      "Fold: 0\n",
      "Fold: 1\n",
      "Fold: 2\n",
      "Fold: 3\n",
      "Fold: 4\n"
     ]
    }
   ],
   "source": [
    "cross_validate_model('RidgeCV', models_h1n1, mean_roc_dict_h1n1)"
   ]
  },
  {
   "cell_type": "code",
   "execution_count": 24,
   "metadata": {},
   "outputs": [
    {
     "name": "stdout",
     "output_type": "stream",
     "text": [
      "KNN\n",
      "Fold: 0\n",
      "Fold: 1\n",
      "Fold: 2\n",
      "Fold: 3\n",
      "Fold: 4\n"
     ]
    }
   ],
   "source": [
    "cross_validate_model('KNN', models_h1n1, mean_roc_dict_h1n1)"
   ]
  },
  {
   "cell_type": "code",
   "execution_count": 25,
   "metadata": {},
   "outputs": [
    {
     "name": "stdout",
     "output_type": "stream",
     "text": [
      "MLP\n",
      "Fold: 0\n",
      "Fold: 1\n",
      "Fold: 2\n",
      "Fold: 3\n",
      "Fold: 4\n"
     ]
    }
   ],
   "source": [
    "cross_validate_model('MLP', models_h1n1, mean_roc_dict_h1n1)"
   ]
  },
  {
   "cell_type": "code",
   "execution_count": 26,
   "metadata": {},
   "outputs": [
    {
     "name": "stdout",
     "output_type": "stream",
     "text": [
      "GaussNB\n",
      "Fold: 0\n",
      "Fold: 1\n",
      "Fold: 2\n",
      "Fold: 3\n",
      "Fold: 4\n"
     ]
    }
   ],
   "source": [
    "cross_validate_model('GaussNB', models_h1n1, mean_roc_dict_h1n1)"
   ]
  },
  {
   "cell_type": "code",
   "execution_count": 27,
   "metadata": {},
   "outputs": [
    {
     "name": "stdout",
     "output_type": "stream",
     "text": [
      "XGB\n",
      "Fold: 0\n",
      "Fold: 1\n",
      "Fold: 2\n",
      "Fold: 3\n",
      "Fold: 4\n"
     ]
    }
   ],
   "source": [
    "cross_validate_model('XGB', models_h1n1, mean_roc_dict_h1n1)"
   ]
  },
  {
   "cell_type": "code",
   "execution_count": 28,
   "metadata": {},
   "outputs": [
    {
     "name": "stdout",
     "output_type": "stream",
     "text": [
      "LGBM\n",
      "Fold: 0\n",
      "Fold: 1\n",
      "Fold: 2\n",
      "Fold: 3\n",
      "Fold: 4\n"
     ]
    }
   ],
   "source": [
    "cross_validate_model('LGBM', models_h1n1, mean_roc_dict_h1n1)"
   ]
  },
  {
   "cell_type": "code",
   "execution_count": 29,
   "metadata": {},
   "outputs": [
    {
     "name": "stdout",
     "output_type": "stream",
     "text": [
      "CAT\n",
      "Fold: 0\n",
      "Fold: 1\n",
      "Fold: 2\n",
      "Fold: 3\n",
      "Fold: 4\n"
     ]
    }
   ],
   "source": [
    "cross_validate_model('CAT', models_h1n1, mean_roc_dict_h1n1, fit_params = {'silent': True})"
   ]
  },
  {
   "cell_type": "code",
   "execution_count": 30,
   "metadata": {},
   "outputs": [
    {
     "name": "stdout",
     "output_type": "stream",
     "text": [
      "STACK\n",
      "Fold: 0\n",
      "Fold: 1\n",
      "Fold: 2\n",
      "Fold: 3\n",
      "Fold: 4\n"
     ]
    }
   ],
   "source": [
    "cross_validate_model('STACK', models_h1n1, mean_roc_dict_h1n1)"
   ]
  },
  {
   "cell_type": "code",
   "execution_count": 31,
   "metadata": {},
   "outputs": [
    {
     "data": {
      "text/html": [
       "<div>\n",
       "<style scoped>\n",
       "    .dataframe tbody tr th:only-of-type {\n",
       "        vertical-align: middle;\n",
       "    }\n",
       "\n",
       "    .dataframe tbody tr th {\n",
       "        vertical-align: top;\n",
       "    }\n",
       "\n",
       "    .dataframe thead th {\n",
       "        text-align: right;\n",
       "    }\n",
       "</style>\n",
       "<table border=\"1\" class=\"dataframe\">\n",
       "  <thead>\n",
       "    <tr style=\"text-align: right;\">\n",
       "      <th></th>\n",
       "      <th>Model</th>\n",
       "      <th>Mean ROC AUC Score</th>\n",
       "    </tr>\n",
       "  </thead>\n",
       "  <tbody>\n",
       "    <tr>\n",
       "      <th>STACK</th>\n",
       "      <td>StackingClassifier(estimators=[('Logist',\\n   ...</td>\n",
       "      <td>0.841426</td>\n",
       "    </tr>\n",
       "    <tr>\n",
       "      <th>LGBM</th>\n",
       "      <td>LGBMClassifier(colsample_bytree=0.9, learning_...</td>\n",
       "      <td>0.84088</td>\n",
       "    </tr>\n",
       "    <tr>\n",
       "      <th>XGB</th>\n",
       "      <td>XGBClassifier(base_score=0.5, booster='gbtree'...</td>\n",
       "      <td>0.840673</td>\n",
       "    </tr>\n",
       "    <tr>\n",
       "      <th>CAT</th>\n",
       "      <td>&lt;catboost.core.CatBoostClassifier object at 0x...</td>\n",
       "      <td>0.839624</td>\n",
       "    </tr>\n",
       "    <tr>\n",
       "      <th>Logist</th>\n",
       "      <td>LogisticRegressionCV(max_iter=1000, n_jobs=-1)</td>\n",
       "      <td>0.833049</td>\n",
       "    </tr>\n",
       "    <tr>\n",
       "      <th>KNN</th>\n",
       "      <td>KNeighborsClassifier(n_jobs=-1, n_neighbors=20...</td>\n",
       "      <td>0.794038</td>\n",
       "    </tr>\n",
       "    <tr>\n",
       "      <th>GaussNB</th>\n",
       "      <td>GaussianNB()</td>\n",
       "      <td>0.738239</td>\n",
       "    </tr>\n",
       "    <tr>\n",
       "      <th>MLP</th>\n",
       "      <td>MLPClassifier(max_iter=1000)</td>\n",
       "      <td>0.73384</td>\n",
       "    </tr>\n",
       "    <tr>\n",
       "      <th>RidgeCV</th>\n",
       "      <td>RidgeClassifierCV(alphas=array([ 0.1 ,  0.25, ...</td>\n",
       "      <td>0.676262</td>\n",
       "    </tr>\n",
       "  </tbody>\n",
       "</table>\n",
       "</div>"
      ],
      "text/plain": [
       "                                                     Model Mean ROC AUC Score\n",
       "STACK    StackingClassifier(estimators=[('Logist',\\n   ...           0.841426\n",
       "LGBM     LGBMClassifier(colsample_bytree=0.9, learning_...            0.84088\n",
       "XGB      XGBClassifier(base_score=0.5, booster='gbtree'...           0.840673\n",
       "CAT      <catboost.core.CatBoostClassifier object at 0x...           0.839624\n",
       "Logist      LogisticRegressionCV(max_iter=1000, n_jobs=-1)           0.833049\n",
       "KNN      KNeighborsClassifier(n_jobs=-1, n_neighbors=20...           0.794038\n",
       "GaussNB                                       GaussianNB()           0.738239\n",
       "MLP                           MLPClassifier(max_iter=1000)            0.73384\n",
       "RidgeCV  RidgeClassifierCV(alphas=array([ 0.1 ,  0.25, ...           0.676262"
      ]
     },
     "execution_count": 31,
     "metadata": {},
     "output_type": "execute_result"
    }
   ],
   "source": [
    "mean_roc_df_h1n1 = pd.DataFrame(mean_roc_dict_h1n1, index = ['Model', 'Mean ROC AUC Score']).transpose().sort_values(by='Mean ROC AUC Score', ascending=False)\n",
    "mean_roc_df_h1n1"
   ]
  },
  {
   "cell_type": "markdown",
   "metadata": {},
   "source": [
    "## SEASONAL Label"
   ]
  },
  {
   "cell_type": "code",
   "execution_count": 32,
   "metadata": {},
   "outputs": [],
   "source": [
    "mean_roc_dict_seas = {}"
   ]
  },
  {
   "cell_type": "code",
   "execution_count": 33,
   "metadata": {},
   "outputs": [],
   "source": [
    "feature_cols = [col for col in X_train_full.columns.tolist() if col not in ['h1n1_vaccine', 'seasonal_vaccine']]\n",
    "target_cols = ['seasonal_vaccine']"
   ]
  },
  {
   "cell_type": "code",
   "execution_count": 34,
   "metadata": {},
   "outputs": [
    {
     "name": "stdout",
     "output_type": "stream",
     "text": [
      "Logist\n",
      "Fold: 0\n",
      "Fold: 1\n",
      "Fold: 2\n",
      "Fold: 3\n",
      "Fold: 4\n"
     ]
    }
   ],
   "source": [
    "cross_validate_model('Logist', models_seas, mean_roc_dict_seas)"
   ]
  },
  {
   "cell_type": "code",
   "execution_count": 35,
   "metadata": {},
   "outputs": [
    {
     "name": "stdout",
     "output_type": "stream",
     "text": [
      "RidgeCV\n",
      "Fold: 0\n",
      "Fold: 1\n",
      "Fold: 2\n",
      "Fold: 3\n",
      "Fold: 4\n"
     ]
    }
   ],
   "source": [
    "cross_validate_model('RidgeCV', models_seas, mean_roc_dict_seas)"
   ]
  },
  {
   "cell_type": "code",
   "execution_count": 36,
   "metadata": {},
   "outputs": [
    {
     "name": "stdout",
     "output_type": "stream",
     "text": [
      "KNN\n",
      "Fold: 0\n",
      "Fold: 1\n",
      "Fold: 2\n",
      "Fold: 3\n",
      "Fold: 4\n"
     ]
    }
   ],
   "source": [
    "cross_validate_model('KNN', models_seas, mean_roc_dict_seas)"
   ]
  },
  {
   "cell_type": "code",
   "execution_count": 37,
   "metadata": {},
   "outputs": [
    {
     "name": "stdout",
     "output_type": "stream",
     "text": [
      "MLP\n",
      "Fold: 0\n",
      "Fold: 1\n",
      "Fold: 2\n",
      "Fold: 3\n",
      "Fold: 4\n"
     ]
    }
   ],
   "source": [
    "cross_validate_model('MLP', models_seas, mean_roc_dict_seas)"
   ]
  },
  {
   "cell_type": "code",
   "execution_count": 38,
   "metadata": {},
   "outputs": [
    {
     "name": "stdout",
     "output_type": "stream",
     "text": [
      "GaussNB\n",
      "Fold: 0\n",
      "Fold: 1\n",
      "Fold: 2\n",
      "Fold: 3\n",
      "Fold: 4\n"
     ]
    }
   ],
   "source": [
    "cross_validate_model('GaussNB', models_seas, mean_roc_dict_seas)"
   ]
  },
  {
   "cell_type": "code",
   "execution_count": 39,
   "metadata": {},
   "outputs": [
    {
     "name": "stdout",
     "output_type": "stream",
     "text": [
      "XGB\n",
      "Fold: 0\n",
      "Fold: 1\n",
      "Fold: 2\n",
      "Fold: 3\n",
      "Fold: 4\n"
     ]
    }
   ],
   "source": [
    "cross_validate_model('XGB', models_seas, mean_roc_dict_seas)"
   ]
  },
  {
   "cell_type": "code",
   "execution_count": 40,
   "metadata": {},
   "outputs": [
    {
     "name": "stdout",
     "output_type": "stream",
     "text": [
      "LGBM\n",
      "Fold: 0\n",
      "Fold: 1\n",
      "Fold: 2\n",
      "Fold: 3\n",
      "Fold: 4\n"
     ]
    }
   ],
   "source": [
    "cross_validate_model('LGBM', models_seas, mean_roc_dict_seas)"
   ]
  },
  {
   "cell_type": "code",
   "execution_count": 41,
   "metadata": {},
   "outputs": [
    {
     "name": "stdout",
     "output_type": "stream",
     "text": [
      "CAT\n",
      "Fold: 0\n",
      "Fold: 1\n",
      "Fold: 2\n",
      "Fold: 3\n",
      "Fold: 4\n"
     ]
    }
   ],
   "source": [
    "cross_validate_model('CAT', models_seas, mean_roc_dict_seas, fit_params = {'silent': True})"
   ]
  },
  {
   "cell_type": "code",
   "execution_count": 42,
   "metadata": {},
   "outputs": [
    {
     "name": "stdout",
     "output_type": "stream",
     "text": [
      "STACK\n",
      "Fold: 0\n",
      "Fold: 1\n",
      "Fold: 2\n",
      "Fold: 3\n",
      "Fold: 4\n"
     ]
    }
   ],
   "source": [
    "cross_validate_model('STACK', models_seas, mean_roc_dict_seas)"
   ]
  },
  {
   "cell_type": "code",
   "execution_count": 43,
   "metadata": {},
   "outputs": [
    {
     "data": {
      "text/html": [
       "<div>\n",
       "<style scoped>\n",
       "    .dataframe tbody tr th:only-of-type {\n",
       "        vertical-align: middle;\n",
       "    }\n",
       "\n",
       "    .dataframe tbody tr th {\n",
       "        vertical-align: top;\n",
       "    }\n",
       "\n",
       "    .dataframe thead th {\n",
       "        text-align: right;\n",
       "    }\n",
       "</style>\n",
       "<table border=\"1\" class=\"dataframe\">\n",
       "  <thead>\n",
       "    <tr style=\"text-align: right;\">\n",
       "      <th></th>\n",
       "      <th>Model</th>\n",
       "      <th>Mean ROC AUC Score</th>\n",
       "    </tr>\n",
       "  </thead>\n",
       "  <tbody>\n",
       "    <tr>\n",
       "      <th>STACK</th>\n",
       "      <td>StackingClassifier(estimators=[('Logist',\\n   ...</td>\n",
       "      <td>0.86218</td>\n",
       "    </tr>\n",
       "    <tr>\n",
       "      <th>CAT</th>\n",
       "      <td>&lt;catboost.core.CatBoostClassifier object at 0x...</td>\n",
       "      <td>0.861232</td>\n",
       "    </tr>\n",
       "    <tr>\n",
       "      <th>XGB</th>\n",
       "      <td>XGBClassifier(base_score=0.5, booster='gbtree'...</td>\n",
       "      <td>0.86048</td>\n",
       "    </tr>\n",
       "    <tr>\n",
       "      <th>LGBM</th>\n",
       "      <td>LGBMClassifier(colsample_bytree=0.6, learning_...</td>\n",
       "      <td>0.860459</td>\n",
       "    </tr>\n",
       "    <tr>\n",
       "      <th>Logist</th>\n",
       "      <td>LogisticRegressionCV(max_iter=1000, n_jobs=-1)</td>\n",
       "      <td>0.852071</td>\n",
       "    </tr>\n",
       "    <tr>\n",
       "      <th>KNN</th>\n",
       "      <td>KNeighborsClassifier(n_jobs=-1, n_neighbors=20...</td>\n",
       "      <td>0.804017</td>\n",
       "    </tr>\n",
       "    <tr>\n",
       "      <th>RidgeCV</th>\n",
       "      <td>RidgeClassifierCV(alphas=array([ 0.1 ,  0.25, ...</td>\n",
       "      <td>0.775615</td>\n",
       "    </tr>\n",
       "    <tr>\n",
       "      <th>MLP</th>\n",
       "      <td>MLPClassifier(max_iter=1000)</td>\n",
       "      <td>0.762391</td>\n",
       "    </tr>\n",
       "    <tr>\n",
       "      <th>GaussNB</th>\n",
       "      <td>GaussianNB()</td>\n",
       "      <td>0.748187</td>\n",
       "    </tr>\n",
       "  </tbody>\n",
       "</table>\n",
       "</div>"
      ],
      "text/plain": [
       "                                                     Model Mean ROC AUC Score\n",
       "STACK    StackingClassifier(estimators=[('Logist',\\n   ...            0.86218\n",
       "CAT      <catboost.core.CatBoostClassifier object at 0x...           0.861232\n",
       "XGB      XGBClassifier(base_score=0.5, booster='gbtree'...            0.86048\n",
       "LGBM     LGBMClassifier(colsample_bytree=0.6, learning_...           0.860459\n",
       "Logist      LogisticRegressionCV(max_iter=1000, n_jobs=-1)           0.852071\n",
       "KNN      KNeighborsClassifier(n_jobs=-1, n_neighbors=20...           0.804017\n",
       "RidgeCV  RidgeClassifierCV(alphas=array([ 0.1 ,  0.25, ...           0.775615\n",
       "MLP                           MLPClassifier(max_iter=1000)           0.762391\n",
       "GaussNB                                       GaussianNB()           0.748187"
      ]
     },
     "execution_count": 43,
     "metadata": {},
     "output_type": "execute_result"
    }
   ],
   "source": [
    "mean_roc_df_seas = pd.DataFrame(mean_roc_dict_seas, index = ['Model', 'Mean ROC AUC Score']).transpose().sort_values(by='Mean ROC AUC Score', ascending=False)\n",
    "mean_roc_df_seas"
   ]
  },
  {
   "cell_type": "markdown",
   "metadata": {},
   "source": [
    "# Plotting Best Model"
   ]
  },
  {
   "cell_type": "code",
   "execution_count": 44,
   "metadata": {},
   "outputs": [],
   "source": [
    "from sklearn.model_selection import train_test_split\n",
    "\n",
    "X_train, X_valid, y_train, y_valid = train_test_split(X_train_full,\n",
    "                                                      y_train_full,\n",
    "                                                      train_size=0.8,\n",
    "                                                      random_state=42,\n",
    "                                                      shuffle=True)"
   ]
  },
  {
   "cell_type": "code",
   "execution_count": 45,
   "metadata": {},
   "outputs": [],
   "source": [
    "def plot_roc(y_true, y_score, label_name, title_name, ax):\n",
    "    fpr, tpr, thresholds = roc_curve(y_true, y_score)\n",
    "    ax.plot(fpr, tpr, label = f\"{label_name}: AUC = {roc_auc_score(y_true, y_score):.4f}\")\n",
    "    ax.plot([0, 1], [0, 1], color='grey', linestyle='--')\n",
    "    ax.set_ylabel('TPR')\n",
    "    ax.set_xlabel('FPR')\n",
    "    ax.set_title(title_name)\n",
    "    ax.legend(loc='lower right')"
   ]
  },
  {
   "cell_type": "code",
   "execution_count": 46,
   "metadata": {},
   "outputs": [],
   "source": [
    "best_model_h1n1 = mean_roc_df_h1n1.iloc[0]['Model']\n",
    "best_model_h1n1_name = mean_roc_df_h1n1.index[0]"
   ]
  },
  {
   "cell_type": "code",
   "execution_count": 47,
   "metadata": {},
   "outputs": [
    {
     "data": {
      "text/plain": [
       "StackingClassifier(estimators=[('Logist',\n",
       "                                LogisticRegressionCV(max_iter=1000, n_jobs=-1)),\n",
       "                               ('KNN',\n",
       "                                KNeighborsClassifier(n_jobs=-1, n_neighbors=200,\n",
       "                                                     weights='distance')),\n",
       "                               ('MLP', MLPClassifier(max_iter=1000)),\n",
       "                               ('GaussNB', GaussianNB()),\n",
       "                               ('XGBoost',\n",
       "                                XGBClassifier(base_score=0.5, booster='gbtree',\n",
       "                                              colsample_bylevel=1,\n",
       "                                              colsample_bynode=1,\n",
       "                                              colsample_bytree=0.9, gamma=0,...\n",
       "                                              reg_lambda=1, scale_pos_weight=1,\n",
       "                                              subsample=0.8,\n",
       "                                              tree_method='exact',\n",
       "                                              use_label_encoder=False,\n",
       "                                              validate_parameters=1,\n",
       "                                              verbosity=None)),\n",
       "                               ('LightGBM',\n",
       "                                LGBMClassifier(colsample_bytree=0.9,\n",
       "                                               learning_rate=0.05,\n",
       "                                               min_child_samples=21,\n",
       "                                               min_child_weight=0.0015,\n",
       "                                               subsample=0.9)),\n",
       "                               ('CatBoost',\n",
       "                                <catboost.core.CatBoostClassifier object at 0x000002E48CF11EE0>)],\n",
       "                   n_jobs=-1, verbose=3)"
      ]
     },
     "execution_count": 47,
     "metadata": {},
     "output_type": "execute_result"
    }
   ],
   "source": [
    "best_model_h1n1.fit(X_train, y_train['h1n1_vaccine'])"
   ]
  },
  {
   "cell_type": "code",
   "execution_count": 48,
   "metadata": {},
   "outputs": [],
   "source": [
    "y_pred_h1n1 = best_model_h1n1.predict_proba(X_valid)[:, 1]"
   ]
  },
  {
   "cell_type": "code",
   "execution_count": 49,
   "metadata": {},
   "outputs": [],
   "source": [
    "best_model_seas = mean_roc_df_seas.iloc[0]['Model']\n",
    "best_model_seas_name = mean_roc_df_seas.index[0]"
   ]
  },
  {
   "cell_type": "code",
   "execution_count": 50,
   "metadata": {},
   "outputs": [
    {
     "data": {
      "text/plain": [
       "StackingClassifier(estimators=[('Logist',\n",
       "                                LogisticRegressionCV(max_iter=1000, n_jobs=-1)),\n",
       "                               ('KNN',\n",
       "                                KNeighborsClassifier(n_jobs=-1, n_neighbors=200,\n",
       "                                                     weights='distance')),\n",
       "                               ('MLP', MLPClassifier(max_iter=1000)),\n",
       "                               ('GaussNB', GaussianNB()),\n",
       "                               ('XGBoost',\n",
       "                                XGBClassifier(base_score=0.5, booster='gbtree',\n",
       "                                              colsample_bylevel=1,\n",
       "                                              colsample_bynode=1,\n",
       "                                              colsample_bytree=0.9, gamma=0,...\n",
       "                                              subsample=0.7000000000000001,\n",
       "                                              tree_method='exact',\n",
       "                                              use_label_encoder=False,\n",
       "                                              validate_parameters=1,\n",
       "                                              verbosity=None)),\n",
       "                               ('LightGBM',\n",
       "                                LGBMClassifier(colsample_bytree=0.6,\n",
       "                                               learning_rate=0.05,\n",
       "                                               min_child_samples=23,\n",
       "                                               min_child_weight=0.0015,\n",
       "                                               subsample=0.8500000000000001)),\n",
       "                               ('CatBoost',\n",
       "                                <catboost.core.CatBoostClassifier object at 0x000002E48CF3DA30>)],\n",
       "                   n_jobs=-1, verbose=3)"
      ]
     },
     "execution_count": 50,
     "metadata": {},
     "output_type": "execute_result"
    }
   ],
   "source": [
    "best_model_seas.fit(X_train, y_train['seasonal_vaccine'])"
   ]
  },
  {
   "cell_type": "code",
   "execution_count": 51,
   "metadata": {},
   "outputs": [],
   "source": [
    "y_pred_seas = best_model_seas.predict_proba(X_valid)[:, 1]"
   ]
  },
  {
   "cell_type": "code",
   "execution_count": 52,
   "metadata": {},
   "outputs": [],
   "source": [
    "y_pred = pd.DataFrame({'h1n1_vaccine': y_pred_h1n1,\n",
    "                       'seasonal_vaccine': y_pred_seas})"
   ]
  },
  {
   "cell_type": "code",
   "execution_count": 53,
   "metadata": {},
   "outputs": [
    {
     "data": {
      "image/png": "[encoded data removed]",
      "text/plain": [
       "<Figure size 1260x630 with 2 Axes>"
      ]
     },
     "metadata": {},
     "output_type": "display_data"
    }
   ],
   "source": [
    "fig, ax = plt.subplots(1, 2, figsize=(9, 4.5))\n",
    "\n",
    "plot_roc(\n",
    "    y_valid['h1n1_vaccine'], \n",
    "    y_pred['h1n1_vaccine'], \n",
    "    label_name = best_model_h1n1_name,\n",
    "    title_name = 'h1n1_vaccine',\n",
    "    ax=ax[0]\n",
    ")\n",
    "\n",
    "plot_roc(\n",
    "    y_valid['seasonal_vaccine'], \n",
    "    y_pred['seasonal_vaccine'], \n",
    "    label_name = best_model_seas_name,\n",
    "    title_name = 'seasonal_vaccine',\n",
    "    ax=ax[1]\n",
    ")\n",
    "\n",
    "mean_auc = (roc_auc_score(y_valid['h1n1_vaccine'], y_pred['h1n1_vaccine']) + roc_auc_score(y_valid['seasonal_vaccine'], y_pred['seasonal_vaccine']))/2\n",
    "plt.suptitle(f'Mean AUC Score: {mean_auc:.4f}')\n",
    "\n",
    "fig.tight_layout()"
   ]
  },
  {
   "cell_type": "code",
   "execution_count": 54,
   "metadata": {},
   "outputs": [],
   "source": [
    "pickle.dump(best_model_h1n1, open('models\\\\estimator_h1n1.pkl', 'wb'))\n",
    "pickle.dump(best_model_seas, open('models\\\\estimator_seas.pkl', 'wb'))"
   ]
  }
 ],
 "metadata": {
  "kernelspec": {
   "display_name": "Python 3",
   "language": "python",
   "name": "python3"
  },
  "language_info": {
   "codemirror_mode": {
    "name": "ipython",
    "version": 3
   },
   "file_extension": ".py",
   "mimetype": "text/x-python",
   "name": "python",
   "nbconvert_exporter": "python",
   "pygments_lexer": "ipython3",
   "version": "3.8.5"
  }
 },
 "nbformat": 4,
 "nbformat_minor": 4
}
