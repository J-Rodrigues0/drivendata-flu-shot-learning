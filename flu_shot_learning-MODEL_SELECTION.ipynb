{
 "cells": [
  {
   "cell_type": "code",
   "execution_count": 1,
   "metadata": {},
   "outputs": [],
   "source": [
    "import numpy as np\n",
    "import pandas as pd\n",
    "import matplotlib.pyplot as plt\n",
    "import seaborn as sns\n",
    "import pickle\n",
    "from pathlib import Path\n",
    "\n",
    "root = Path(\".\")\n",
    "\n",
    "%matplotlib inline\n",
    "sns.set()\n",
    "\n",
    "plt.rcParams['figure.figsize'] = [8.0, 8.0]\n",
    "plt.rcParams['figure.dpi'] = 140"
   ]
  },
  {
   "cell_type": "markdown",
   "metadata": {},
   "source": [
    "# Loading data"
   ]
  },
  {
   "cell_type": "code",
   "execution_count": 2,
   "metadata": {},
   "outputs": [],
   "source": [
    "X_train_full_seas = pd.read_csv('interim_data\\\\preprocessed_train_features_seas.csv', index_col = 'respondent_id')\n",
    "X_train_full_h1n1 = pd.read_csv('interim_data\\\\preprocessed_train_features_h1n1.csv', index_col = 'respondent_id')\n",
    "\n",
    "y_train_full = pd.read_csv('input_data\\\\training_set_labels.csv', index_col = 'respondent_id')"
   ]
  },
  {
   "cell_type": "code",
   "execution_count": 3,
   "metadata": {},
   "outputs": [],
   "source": [
    "train_df_seas = X_train_full_seas.join(y_train_full)\n",
    "train_df_h1n1 = X_train_full_h1n1.join(y_train_full)"
   ]
  },
  {
   "cell_type": "markdown",
   "metadata": {},
   "source": [
    "# Loading test models"
   ]
  },
  {
   "cell_type": "code",
   "execution_count": 4,
   "metadata": {},
   "outputs": [],
   "source": [
    "from sklearn.linear_model import LogisticRegressionCV\n",
    "from sklearn.neighbors import KNeighborsClassifier\n",
    "from sklearn.neural_network import MLPClassifier\n",
    "from sklearn.naive_bayes import GaussianNB"
   ]
  },
  {
   "cell_type": "code",
   "execution_count": 5,
   "metadata": {},
   "outputs": [],
   "source": [
    "LogReg_class_h1n1 = LogisticRegressionCV(max_iter=1000, n_jobs=-1, random_state=42)\n",
    "LogReg_class_seas = LogisticRegressionCV(max_iter=1000, n_jobs=-1, random_state=42)"
   ]
  },
  {
   "cell_type": "code",
   "execution_count": 6,
   "metadata": {},
   "outputs": [],
   "source": [
    "KNN_class_h1n1 = KNeighborsClassifier(n_neighbors=200, weights='distance', n_jobs=-1)\n",
    "KNN_class_seas = KNeighborsClassifier(n_neighbors=200, weights='distance', n_jobs=-1)"
   ]
  },
  {
   "cell_type": "code",
   "execution_count": 7,
   "metadata": {},
   "outputs": [],
   "source": [
    "MLP_class_h1n1 = MLPClassifier(learning_rate='adaptive', alpha=0.01, max_iter=1000, early_stopping=True, tol=1e-6, random_state=42)\n",
    "MLP_class_seas = MLPClassifier(learning_rate='adaptive', alpha=0.01, max_iter=1000, early_stopping=True, tol=1e-6, random_state=42)"
   ]
  },
  {
   "cell_type": "code",
   "execution_count": 8,
   "metadata": {},
   "outputs": [],
   "source": [
    "GaussNB_class_h1n1 = GaussianNB(var_smoothing=1e-1)\n",
    "GaussNB_class_seas = GaussianNB(var_smoothing=1e-1)"
   ]
  },
  {
   "cell_type": "code",
   "execution_count": 9,
   "metadata": {},
   "outputs": [],
   "source": [
    "from xgboost import XGBClassifier\n",
    "\n",
    "with open(root / \"models\\\\XGB_H1N1_best_params.pkl\",\"rb\") as f:\n",
    "    XGB_params_h1n1 = pickle.load(f)\n",
    "\n",
    "XGB_class_h1n1 = XGBClassifier(**XGB_params_h1n1, objective='reg:logistic', random_state=42, use_label_encoder=False)\n",
    "\n",
    "with open(root / \"models\\\\XGB_SEAS_best_params.pkl\",\"rb\") as f:\n",
    "    XGB_params_seas = pickle.load(f)\n",
    "\n",
    "XGB_class_seas = XGBClassifier(**XGB_params_seas, objective='reg:logistic', random_state=42, use_label_encoder=False)"
   ]
  },
  {
   "cell_type": "code",
   "execution_count": 10,
   "metadata": {},
   "outputs": [],
   "source": [
    "from lightgbm import LGBMClassifier\n",
    "\n",
    "with open(root / \"models\\\\LGBM_H1N1_best_params.pkl\",\"rb\") as f:\n",
    "    LGBM_params_h1n1 = pickle.load(f)\n",
    "\n",
    "LGBM_class_h1n1 = LGBMClassifier(**LGBM_params_h1n1)\n",
    "\n",
    "with open(root / \"models\\\\LGBM_SEAS_best_params.pkl\",\"rb\") as f:\n",
    "    LGBM_params_seas = pickle.load(f)\n",
    "\n",
    "LGBM_class_seas = LGBMClassifier(**LGBM_params_seas)"
   ]
  },
  {
   "cell_type": "code",
   "execution_count": 11,
   "metadata": {},
   "outputs": [],
   "source": [
    "from catboost import CatBoostClassifier\n",
    "\n",
    "CAT_params_h1n1 = {}\n",
    "\n",
    "CAT_class_h1n1 = CatBoostClassifier(**CAT_params_h1n1)\n",
    "\n",
    "CAT_params_seas = {}\n",
    "\n",
    "CAT_class_seas = CatBoostClassifier(**CAT_params_seas)"
   ]
  },
  {
   "cell_type": "code",
   "execution_count": 13,
   "metadata": {},
   "outputs": [],
   "source": [
    "from sklearn.ensemble import StackingClassifier\n",
    "\n",
    "STACK_class_h1n1 = StackingClassifier(estimators=[('Logist', LogReg_class_h1n1),\n",
    "                                                  ('KNN', KNN_class_h1n1),\n",
    "                                                  ('MLP', MLP_class_h1n1),\n",
    "                                                  ('GaussNB', GaussNB_class_h1n1),\n",
    "                                                  ('XGBoost', XGB_class_h1n1),\n",
    "                                                  ('LightGBM', LGBM_class_h1n1),\n",
    "                                                  ('CatBoost', CAT_class_h1n1)],\n",
    "                                      n_jobs=-1,\n",
    "                                      verbose=3)\n",
    "\n",
    "STACK_class_seas = StackingClassifier(estimators=[('Logist', LogReg_class_seas),\n",
    "                                                  ('KNN', KNN_class_seas),\n",
    "                                                  ('MLP', MLP_class_seas),\n",
    "                                                  ('GaussNB', GaussNB_class_seas),\n",
    "                                                  ('XGBoost', XGB_class_seas),\n",
    "                                                  ('LightGBM', LGBM_class_seas),\n",
    "                                                  ('CatBoost', CAT_class_seas)],\n",
    "                                      n_jobs=-1,\n",
    "                                      verbose=3)"
   ]
  },
  {
   "cell_type": "code",
   "execution_count": 14,
   "metadata": {},
   "outputs": [],
   "source": [
    "models_h1n1 = {'Logist': LogReg_class_h1n1,\n",
    "               'KNN': KNN_class_h1n1,\n",
    "               'MLP': MLP_class_h1n1,\n",
    "               'GaussNB': GaussNB_class_h1n1,\n",
    "               'XGB': XGB_class_h1n1,\n",
    "               'LGBM': LGBM_class_h1n1,\n",
    "               'CAT': CAT_class_h1n1,\n",
    "               'STACK': STACK_class_h1n1}"
   ]
  },
  {
   "cell_type": "code",
   "execution_count": 15,
   "metadata": {},
   "outputs": [],
   "source": [
    "models_seas = {'Logist': LogReg_class_seas,\n",
    "               'KNN': KNN_class_seas,\n",
    "               'MLP': MLP_class_seas,\n",
    "               'GaussNB': GaussNB_class_seas,\n",
    "               'XGB': XGB_class_seas,\n",
    "               'LGBM': LGBM_class_seas,\n",
    "               'CAT': CAT_class_seas,\n",
    "               'STACK': STACK_class_seas}"
   ]
  },
  {
   "cell_type": "markdown",
   "metadata": {},
   "source": [
    "# Cross-validating models"
   ]
  },
  {
   "cell_type": "code",
   "execution_count": 16,
   "metadata": {},
   "outputs": [],
   "source": [
    "from sklearn.model_selection import KFold\n",
    "\n",
    "N_folds = 5\n",
    "kf = KFold(n_splits=N_folds, random_state=42, shuffle=True)\n",
    "\n",
    "for i, (trn, val) in enumerate(kf.split(train_df_seas)):\n",
    "    train_df_seas.loc[val, 'kfold'] = i\n",
    "    train_df_h1n1.loc[val, 'kfold'] = i\n",
    "    \n",
    "train_df_seas['kfold'] = train_df_seas['kfold'].astype(int)\n",
    "train_df_h1n1['kfold'] = train_df_h1n1['kfold'].astype(int)"
   ]
  },
  {
   "cell_type": "code",
   "execution_count": 17,
   "metadata": {},
   "outputs": [],
   "source": [
    "from sklearn.metrics import roc_auc_score, roc_curve"
   ]
  },
  {
   "cell_type": "code",
   "execution_count": 18,
   "metadata": {},
   "outputs": [],
   "source": [
    "def cross_validate_model_seas(model_name, model_dict, mean_roc_dict, fit_params = {}):\n",
    "    model = model_dict[model_name]\n",
    "    print(model_name)\n",
    "    mean_roc = 0\n",
    "    for fold in range(N_folds):\n",
    "        print(f'Fold: {fold}')\n",
    "        train_idx = train_df_seas['kfold'] != fold\n",
    "        valid_idx = train_df_seas['kfold'] == fold\n",
    "        train = train_df_seas.loc[train_idx, :]\n",
    "        valid = train_df_seas.loc[valid_idx, :]\n",
    "        \n",
    "        x_train, y_train = train[feature_cols].values, train[target_cols].values\n",
    "        x_valid, y_valid = valid[feature_cols].values, valid[target_cols].values\n",
    "        \n",
    "        model.fit(x_train, y_train.reshape(-1,), **fit_params)\n",
    "        \n",
    "        try:\n",
    "            y_pred_valid = model.predict_proba(x_valid)[:, 1]\n",
    "        except:\n",
    "            y_pred_valid = model.predict(x_valid)\n",
    "            \n",
    "        mean_roc += roc_auc_score(y_valid, y_pred_valid)/5\n",
    "        \n",
    "    mean_roc_dict[model_name] = [model, mean_roc]"
   ]
  },
  {
   "cell_type": "code",
   "execution_count": 19,
   "metadata": {},
   "outputs": [],
   "source": [
    "def cross_validate_model_h1n1(model_name, model_dict, mean_roc_dict, fit_params = {}):\n",
    "    model = model_dict[model_name]\n",
    "    print(model_name)\n",
    "    mean_roc = 0\n",
    "    for fold in range(N_folds):\n",
    "        print(f'Fold: {fold}')\n",
    "        train_idx = train_df_h1n1['kfold'] != fold\n",
    "        valid_idx = train_df_h1n1['kfold'] == fold\n",
    "        train = train_df_h1n1.loc[train_idx, :]\n",
    "        valid = train_df_h1n1.loc[valid_idx, :]\n",
    "        \n",
    "        x_train, y_train = train[feature_cols].values, train[target_cols].values\n",
    "        x_valid, y_valid = valid[feature_cols].values, valid[target_cols].values\n",
    "        \n",
    "        model.fit(x_train, y_train.reshape(-1,), **fit_params)\n",
    "        \n",
    "        try:\n",
    "            y_pred_valid = model.predict_proba(x_valid)[:, 1]\n",
    "        except:\n",
    "            y_pred_valid = model.predict(x_valid)\n",
    "            \n",
    "        mean_roc += roc_auc_score(y_valid, y_pred_valid)/5\n",
    "        \n",
    "    mean_roc_dict[model_name] = [model, mean_roc]"
   ]
  },
  {
   "cell_type": "markdown",
   "metadata": {},
   "source": [
    "## H1N1 Label"
   ]
  },
  {
   "cell_type": "code",
   "execution_count": 20,
   "metadata": {},
   "outputs": [],
   "source": [
    "mean_roc_dict_h1n1 = {}"
   ]
  },
  {
   "cell_type": "code",
   "execution_count": 21,
   "metadata": {},
   "outputs": [],
   "source": [
    "feature_cols = [col for col in X_train_full_h1n1.columns.tolist() if col not in ['h1n1_vaccine', 'seasonal_vaccine']]\n",
    "target_cols = ['h1n1_vaccine']"
   ]
  },
  {
   "cell_type": "code",
   "execution_count": 22,
   "metadata": {},
   "outputs": [
    {
     "name": "stdout",
     "output_type": "stream",
     "text": [
      "Logist\n",
      "Fold: 0\n",
      "Fold: 1\n",
      "Fold: 2\n",
      "Fold: 3\n",
      "Fold: 4\n"
     ]
    }
   ],
   "source": [
    "cross_validate_model_h1n1('Logist', models_h1n1, mean_roc_dict_h1n1)"
   ]
  },
  {
   "cell_type": "code",
   "execution_count": 23,
   "metadata": {},
   "outputs": [
    {
     "name": "stdout",
     "output_type": "stream",
     "text": [
      "KNN\n",
      "Fold: 0\n",
      "Fold: 1\n",
      "Fold: 2\n",
      "Fold: 3\n",
      "Fold: 4\n"
     ]
    }
   ],
   "source": [
    "cross_validate_model_h1n1('KNN', models_h1n1, mean_roc_dict_h1n1)"
   ]
  },
  {
   "cell_type": "code",
   "execution_count": 24,
   "metadata": {},
   "outputs": [
    {
     "name": "stdout",
     "output_type": "stream",
     "text": [
      "MLP\n",
      "Fold: 0\n",
      "Fold: 1\n",
      "Fold: 2\n",
      "Fold: 3\n",
      "Fold: 4\n"
     ]
    }
   ],
   "source": [
    "cross_validate_model_h1n1('MLP', models_h1n1, mean_roc_dict_h1n1)"
   ]
  },
  {
   "cell_type": "code",
   "execution_count": 25,
   "metadata": {},
   "outputs": [
    {
     "name": "stdout",
     "output_type": "stream",
     "text": [
      "GaussNB\n",
      "Fold: 0\n",
      "Fold: 1\n",
      "Fold: 2\n",
      "Fold: 3\n",
      "Fold: 4\n"
     ]
    }
   ],
   "source": [
    "cross_validate_model_h1n1('GaussNB', models_h1n1, mean_roc_dict_h1n1)"
   ]
  },
  {
   "cell_type": "code",
   "execution_count": 26,
   "metadata": {},
   "outputs": [
    {
     "name": "stdout",
     "output_type": "stream",
     "text": [
      "XGB\n",
      "Fold: 0\n",
      "Fold: 1\n",
      "Fold: 2\n",
      "Fold: 3\n",
      "Fold: 4\n"
     ]
    }
   ],
   "source": [
    "cross_validate_model_h1n1('XGB', models_h1n1, mean_roc_dict_h1n1)"
   ]
  },
  {
   "cell_type": "code",
   "execution_count": 27,
   "metadata": {},
   "outputs": [
    {
     "name": "stdout",
     "output_type": "stream",
     "text": [
      "LGBM\n",
      "Fold: 0\n",
      "Fold: 1\n",
      "Fold: 2\n",
      "Fold: 3\n",
      "Fold: 4\n"
     ]
    }
   ],
   "source": [
    "cross_validate_model_h1n1('LGBM', models_h1n1, mean_roc_dict_h1n1)"
   ]
  },
  {
   "cell_type": "code",
   "execution_count": 28,
   "metadata": {},
   "outputs": [
    {
     "name": "stdout",
     "output_type": "stream",
     "text": [
      "CAT\n",
      "Fold: 0\n",
      "Fold: 1\n",
      "Fold: 2\n",
      "Fold: 3\n",
      "Fold: 4\n"
     ]
    }
   ],
   "source": [
    "cross_validate_model_h1n1('CAT', models_h1n1, mean_roc_dict_h1n1, fit_params = {'silent': True})"
   ]
  },
  {
   "cell_type": "code",
   "execution_count": 29,
   "metadata": {},
   "outputs": [
    {
     "name": "stdout",
     "output_type": "stream",
     "text": [
      "STACK\n",
      "Fold: 0\n",
      "Fold: 1\n",
      "Fold: 2\n",
      "Fold: 3\n",
      "Fold: 4\n"
     ]
    }
   ],
   "source": [
    "cross_validate_model_h1n1('STACK', models_h1n1, mean_roc_dict_h1n1)"
   ]
  },
  {
   "cell_type": "code",
   "execution_count": 30,
   "metadata": {},
   "outputs": [
    {
     "data": {
      "text/html": [
       "<div>\n",
       "<style scoped>\n",
       "    .dataframe tbody tr th:only-of-type {\n",
       "        vertical-align: middle;\n",
       "    }\n",
       "\n",
       "    .dataframe tbody tr th {\n",
       "        vertical-align: top;\n",
       "    }\n",
       "\n",
       "    .dataframe thead th {\n",
       "        text-align: right;\n",
       "    }\n",
       "</style>\n",
       "<table border=\"1\" class=\"dataframe\">\n",
       "  <thead>\n",
       "    <tr style=\"text-align: right;\">\n",
       "      <th></th>\n",
       "      <th>Model</th>\n",
       "      <th>Mean ROC AUC Score</th>\n",
       "    </tr>\n",
       "  </thead>\n",
       "  <tbody>\n",
       "    <tr>\n",
       "      <th>LGBM</th>\n",
       "      <td>LGBMClassifier(colsample_bytree=0.65, min_chil...</td>\n",
       "      <td>0.840725</td>\n",
       "    </tr>\n",
       "    <tr>\n",
       "      <th>XGB</th>\n",
       "      <td>XGBClassifier(base_score=0.5, booster='gbtree'...</td>\n",
       "      <td>0.840664</td>\n",
       "    </tr>\n",
       "    <tr>\n",
       "      <th>STACK</th>\n",
       "      <td>StackingClassifier(estimators=[('Logist',\\n   ...</td>\n",
       "      <td>0.840095</td>\n",
       "    </tr>\n",
       "    <tr>\n",
       "      <th>CAT</th>\n",
       "      <td>&lt;catboost.core.CatBoostClassifier object at 0x...</td>\n",
       "      <td>0.839759</td>\n",
       "    </tr>\n",
       "    <tr>\n",
       "      <th>Logist</th>\n",
       "      <td>LogisticRegressionCV(max_iter=1000, n_jobs=-1,...</td>\n",
       "      <td>0.833024</td>\n",
       "    </tr>\n",
       "    <tr>\n",
       "      <th>MLP</th>\n",
       "      <td>MLPClassifier(alpha=0.01, early_stopping=True,...</td>\n",
       "      <td>0.831615</td>\n",
       "    </tr>\n",
       "    <tr>\n",
       "      <th>KNN</th>\n",
       "      <td>KNeighborsClassifier(n_jobs=-1, n_neighbors=20...</td>\n",
       "      <td>0.794866</td>\n",
       "    </tr>\n",
       "    <tr>\n",
       "      <th>GaussNB</th>\n",
       "      <td>GaussianNB(var_smoothing=0.1)</td>\n",
       "      <td>0.742545</td>\n",
       "    </tr>\n",
       "  </tbody>\n",
       "</table>\n",
       "</div>"
      ],
      "text/plain": [
       "                                                     Model Mean ROC AUC Score\n",
       "LGBM     LGBMClassifier(colsample_bytree=0.65, min_chil...           0.840725\n",
       "XGB      XGBClassifier(base_score=0.5, booster='gbtree'...           0.840664\n",
       "STACK    StackingClassifier(estimators=[('Logist',\\n   ...           0.840095\n",
       "CAT      <catboost.core.CatBoostClassifier object at 0x...           0.839759\n",
       "Logist   LogisticRegressionCV(max_iter=1000, n_jobs=-1,...           0.833024\n",
       "MLP      MLPClassifier(alpha=0.01, early_stopping=True,...           0.831615\n",
       "KNN      KNeighborsClassifier(n_jobs=-1, n_neighbors=20...           0.794866\n",
       "GaussNB                      GaussianNB(var_smoothing=0.1)           0.742545"
      ]
     },
     "execution_count": 30,
     "metadata": {},
     "output_type": "execute_result"
    }
   ],
   "source": [
    "mean_roc_df_h1n1 = pd.DataFrame(mean_roc_dict_h1n1, index = ['Model', 'Mean ROC AUC Score']).transpose().sort_values(by='Mean ROC AUC Score', ascending=False)\n",
    "mean_roc_df_h1n1"
   ]
  },
  {
   "cell_type": "markdown",
   "metadata": {},
   "source": [
    "## SEASONAL Label"
   ]
  },
  {
   "cell_type": "code",
   "execution_count": 31,
   "metadata": {},
   "outputs": [],
   "source": [
    "mean_roc_dict_seas = {}"
   ]
  },
  {
   "cell_type": "code",
   "execution_count": 32,
   "metadata": {},
   "outputs": [],
   "source": [
    "feature_cols = [col for col in X_train_full_seas.columns.tolist() if col not in ['h1n1_vaccine', 'seasonal_vaccine']]\n",
    "target_cols = ['seasonal_vaccine']"
   ]
  },
  {
   "cell_type": "code",
   "execution_count": 33,
   "metadata": {},
   "outputs": [
    {
     "name": "stdout",
     "output_type": "stream",
     "text": [
      "Logist\n",
      "Fold: 0\n",
      "Fold: 1\n",
      "Fold: 2\n",
      "Fold: 3\n",
      "Fold: 4\n"
     ]
    }
   ],
   "source": [
    "cross_validate_model_seas('Logist', models_seas, mean_roc_dict_seas)"
   ]
  },
  {
   "cell_type": "code",
   "execution_count": 34,
   "metadata": {},
   "outputs": [
    {
     "name": "stdout",
     "output_type": "stream",
     "text": [
      "KNN\n",
      "Fold: 0\n",
      "Fold: 1\n",
      "Fold: 2\n",
      "Fold: 3\n",
      "Fold: 4\n"
     ]
    }
   ],
   "source": [
    "cross_validate_model_seas('KNN', models_seas, mean_roc_dict_seas)"
   ]
  },
  {
   "cell_type": "code",
   "execution_count": 35,
   "metadata": {},
   "outputs": [
    {
     "name": "stdout",
     "output_type": "stream",
     "text": [
      "MLP\n",
      "Fold: 0\n",
      "Fold: 1\n",
      "Fold: 2\n",
      "Fold: 3\n",
      "Fold: 4\n"
     ]
    }
   ],
   "source": [
    "cross_validate_model_seas('MLP', models_seas, mean_roc_dict_seas)"
   ]
  },
  {
   "cell_type": "code",
   "execution_count": 36,
   "metadata": {},
   "outputs": [
    {
     "name": "stdout",
     "output_type": "stream",
     "text": [
      "GaussNB\n",
      "Fold: 0\n",
      "Fold: 1\n",
      "Fold: 2\n",
      "Fold: 3\n",
      "Fold: 4\n"
     ]
    }
   ],
   "source": [
    "cross_validate_model_seas('GaussNB', models_seas, mean_roc_dict_seas)"
   ]
  },
  {
   "cell_type": "code",
   "execution_count": 37,
   "metadata": {},
   "outputs": [
    {
     "name": "stdout",
     "output_type": "stream",
     "text": [
      "XGB\n",
      "Fold: 0\n",
      "Fold: 1\n",
      "Fold: 2\n",
      "Fold: 3\n",
      "Fold: 4\n"
     ]
    }
   ],
   "source": [
    "cross_validate_model_seas('XGB', models_seas, mean_roc_dict_seas)"
   ]
  },
  {
   "cell_type": "code",
   "execution_count": 38,
   "metadata": {},
   "outputs": [
    {
     "name": "stdout",
     "output_type": "stream",
     "text": [
      "LGBM\n",
      "Fold: 0\n",
      "Fold: 1\n",
      "Fold: 2\n",
      "Fold: 3\n",
      "Fold: 4\n"
     ]
    }
   ],
   "source": [
    "cross_validate_model_seas('LGBM', models_seas, mean_roc_dict_seas)"
   ]
  },
  {
   "cell_type": "code",
   "execution_count": 39,
   "metadata": {},
   "outputs": [
    {
     "name": "stdout",
     "output_type": "stream",
     "text": [
      "CAT\n",
      "Fold: 0\n",
      "Fold: 1\n",
      "Fold: 2\n",
      "Fold: 3\n",
      "Fold: 4\n"
     ]
    }
   ],
   "source": [
    "cross_validate_model_seas('CAT', models_seas, mean_roc_dict_seas, fit_params = {'silent': True})"
   ]
  },
  {
   "cell_type": "code",
   "execution_count": null,
   "metadata": {},
   "outputs": [
    {
     "name": "stdout",
     "output_type": "stream",
     "text": [
      "STACK\n",
      "Fold: 0\n",
      "Fold: 1\n"
     ]
    }
   ],
   "source": [
    "cross_validate_model_seas('STACK', models_seas, mean_roc_dict_seas)"
   ]
  },
  {
   "cell_type": "code",
   "execution_count": null,
   "metadata": {},
   "outputs": [],
   "source": [
    "mean_roc_df_seas = pd.DataFrame(mean_roc_dict_seas, index = ['Model', 'Mean ROC AUC Score']).transpose().sort_values(by='Mean ROC AUC Score', ascending=False)\n",
    "mean_roc_df_seas"
   ]
  },
  {
   "cell_type": "markdown",
   "metadata": {},
   "source": [
    "# Plotting Best Model"
   ]
  },
  {
   "cell_type": "code",
   "execution_count": null,
   "metadata": {},
   "outputs": [],
   "source": [
    "from sklearn.model_selection import train_test_split\n",
    "\n",
    "X_train_seas, X_valid_seas, y_train_seas, y_valid_seas = train_test_split(X_train_full_seas,\n",
    "                                                      y_train_full,\n",
    "                                                      train_size=0.8,\n",
    "                                                      random_state=42,\n",
    "                                                      shuffle=True)\n",
    "\n",
    "X_train_h1n1, X_valid_h1n1, y_train_h1n1, y_valid_h1n1 = train_test_split(X_train_full_h1n1,\n",
    "                                                      y_train_full,\n",
    "                                                      train_size=0.8,\n",
    "                                                      random_state=42,\n",
    "                                                      shuffle=True)"
   ]
  },
  {
   "cell_type": "code",
   "execution_count": null,
   "metadata": {},
   "outputs": [],
   "source": [
    "def plot_roc(y_true, y_score, label_name, title_name, ax):\n",
    "    fpr, tpr, thresholds = roc_curve(y_true, y_score)\n",
    "    ax.plot(fpr, tpr, label = f\"{label_name}: AUC = {roc_auc_score(y_true, y_score):.4f}\")\n",
    "    ax.plot([0, 1], [0, 1], color='grey', linestyle='--')\n",
    "    ax.set_ylabel('TPR')\n",
    "    ax.set_xlabel('FPR')\n",
    "    ax.set_title(title_name)\n",
    "    ax.legend(loc='lower right')"
   ]
  },
  {
   "cell_type": "code",
   "execution_count": null,
   "metadata": {},
   "outputs": [],
   "source": [
    "best_model_h1n1 = mean_roc_df_h1n1.iloc[0]['Model']\n",
    "best_model_h1n1_name = mean_roc_df_h1n1.index[0]"
   ]
  },
  {
   "cell_type": "code",
   "execution_count": null,
   "metadata": {},
   "outputs": [],
   "source": [
    "best_model_h1n1.fit(X_train_h1n1, y_train_h1n1['h1n1_vaccine'])"
   ]
  },
  {
   "cell_type": "code",
   "execution_count": null,
   "metadata": {},
   "outputs": [],
   "source": [
    "y_pred_h1n1 = best_model_h1n1.predict_proba(X_valid_h1n1)[:, 1]"
   ]
  },
  {
   "cell_type": "code",
   "execution_count": null,
   "metadata": {},
   "outputs": [],
   "source": [
    "best_model_seas = mean_roc_df_seas.iloc[0]['Model']\n",
    "best_model_seas_name = mean_roc_df_seas.index[0]"
   ]
  },
  {
   "cell_type": "code",
   "execution_count": null,
   "metadata": {},
   "outputs": [],
   "source": [
    "best_model_seas.fit(X_train_seas, y_train_seas['seasonal_vaccine'])"
   ]
  },
  {
   "cell_type": "code",
   "execution_count": null,
   "metadata": {},
   "outputs": [],
   "source": [
    "y_pred_seas = best_model_seas.predict_proba(X_valid_seas)[:, 1]"
   ]
  },
  {
   "cell_type": "code",
   "execution_count": null,
   "metadata": {},
   "outputs": [],
   "source": [
    "y_pred = pd.DataFrame({'h1n1_vaccine': y_pred_h1n1,\n",
    "                       'seasonal_vaccine': y_pred_seas})"
   ]
  },
  {
   "cell_type": "code",
   "execution_count": null,
   "metadata": {},
   "outputs": [],
   "source": [
    "fig, ax = plt.subplots(1, 2, figsize=(9, 4.5))\n",
    "\n",
    "plot_roc(\n",
    "    y_valid['h1n1_vaccine'], \n",
    "    y_pred['h1n1_vaccine'], \n",
    "    label_name = best_model_h1n1_name,\n",
    "    title_name = 'h1n1_vaccine',\n",
    "    ax=ax[0]\n",
    ")\n",
    "\n",
    "plot_roc(\n",
    "    y_valid['seasonal_vaccine'], \n",
    "    y_pred['seasonal_vaccine'], \n",
    "    label_name = best_model_seas_name,\n",
    "    title_name = 'seasonal_vaccine',\n",
    "    ax=ax[1]\n",
    ")\n",
    "\n",
    "mean_auc = (roc_auc_score(y_valid['h1n1_vaccine'], y_pred['h1n1_vaccine']) + roc_auc_score(y_valid['seasonal_vaccine'], y_pred['seasonal_vaccine']))/2\n",
    "plt.suptitle(f'Mean AUC Score: {mean_auc:.4f}')\n",
    "\n",
    "fig.tight_layout()"
   ]
  },
  {
   "cell_type": "code",
   "execution_count": null,
   "metadata": {},
   "outputs": [],
   "source": [
    "pickle.dump(best_model_h1n1, open('models\\\\estimator_h1n1.pkl', 'wb'))\n",
    "pickle.dump(best_model_seas, open('models\\\\estimator_seas.pkl', 'wb'))"
   ]
  }
 ],
 "metadata": {
  "kernelspec": {
   "display_name": "Python 3",
   "language": "python",
   "name": "python3"
  },
  "language_info": {
   "codemirror_mode": {
    "name": "ipython",
    "version": 3
   },
   "file_extension": ".py",
   "mimetype": "text/x-python",
   "name": "python",
   "nbconvert_exporter": "python",
   "pygments_lexer": "ipython3",
   "version": "3.8.3"
  }
 },
 "nbformat": 4,
 "nbformat_minor": 4
}
